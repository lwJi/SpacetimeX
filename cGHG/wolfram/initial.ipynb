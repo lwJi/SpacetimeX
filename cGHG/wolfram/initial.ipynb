{
 "cells": [
  {
   "cell_type": "markdown",
   "id": "8ef6bef8-176a-4f80-8a79-931042d75967",
   "metadata": {},
   "source": [
    "# Set Initial Data from ADM Variables"
   ]
  },
  {
   "cell_type": "code",
   "execution_count": 1,
   "id": "462c5b65-137f-44ec-afd0-9405aceb0b05",
   "metadata": {},
   "outputs": [
    {
     "name": "stdout",
     "output_type": "stream",
     "text": [
      "------------------------------------------------------------\n",
      "Package xAct`xPerm`  version 1.2.3, {2015, 8, 23}\n",
      "CopyRight (C) 2003-2020, Jose M. Martin-Garcia, under the General Public\\\n",
      " \n",
      ">   License.\n",
      "Connecting to external mac executable...\n",
      "Connection established.\n",
      "------------------------------------------------------------\n",
      "Package xAct`xTensor`  version 1.2.0, {2021, 10, 17}\n",
      "CopyRight (C) 2002-2021, Jose M. Martin-Garcia, under the General Public\\\n",
      " \n",
      ">   License.\n",
      "------------------------------------------------------------\n",
      "These packages come with ABSOLUTELY NO WARRANTY; for details type\\\n",
      " \n",
      ">   Disclaimer[]. This is free software, and you are welcome to redistribute\\\n",
      " \n",
      ">   it under certain conditions. See the General Public License for details.\n",
      "------------------------------------------------------------\n",
      "------------------------------------------------------------\n",
      "Package xAct`xCoba`  version 0.8.6, {2021, 2, 28}\n",
      "CopyRight (C) 2005-2021, David Yllanes and Jose M. Martin-Garcia, under the\\\n",
      " \n",
      ">   General Public License.\n",
      "------------------------------------------------------------\n",
      "These packages come with ABSOLUTELY NO WARRANTY; for details type\\\n",
      " \n",
      ">   Disclaimer[]. This is free software, and you are welcome to redistribute\\\n",
      " \n",
      ">   it under certain conditions. See the General Public License for details.\n",
      "------------------------------------------------------------\n",
      "------------------------------------------------------------\n",
      "Package Generato`Basic`, {2024, 1, 11}\n",
      "------------------------------------------------------------\n",
      "------------------------------------------------------------\n",
      "Package Generato`ParseMode`, {2024, 7, 06}\n",
      "------------------------------------------------------------\n",
      "------------------------------------------------------------\n",
      "Package Generato`Component`, {2024, 1, 11}\n",
      "------------------------------------------------------------\n",
      "------------------------------------------------------------\n",
      "Package Generato`Varlist`, {2024, 1, 11}\n",
      "------------------------------------------------------------\n",
      "------------------------------------------------------------\n",
      "Package Generato`Interface`, {2024, 1, 11}\n",
      "------------------------------------------------------------\n",
      "------------------------------------------------------------\n",
      "Package Generato`Derivation`, {2024, 1, 18}\n",
      "------------------------------------------------------------\n",
      "\n"
     ]
    }
   ],
   "source": [
    "Needs[\"xAct`xCoba`\", FileNameJoin[{Environment[\"GENERATO\"], \"src/Generato.wl\"}]]"
   ]
  },
  {
   "cell_type": "code",
   "execution_count": 2,
   "id": "1608ec18-87eb-435a-9c4f-9a39fe6f8f0f",
   "metadata": {},
   "outputs": [],
   "source": [
    "DefManifold[M4, 4, IndexRange[a, z]];"
   ]
  },
  {
   "cell_type": "code",
   "execution_count": 3,
   "id": "a3a77d24-9969-4ae9-abe5-4d7773839cda",
   "metadata": {},
   "outputs": [],
   "source": [
    "<<\"wl/cGHG_vars_check.wl\";\n",
    "<<\"wl/ADM_vars_check.wl\";\n",
    "<<\"wl/cGHGinADM_rhs.wl\";"
   ]
  },
  {
   "cell_type": "code",
   "execution_count": 6,
   "id": "bd491581-99cd-4756-914f-63939dc79891",
   "metadata": {},
   "outputs": [],
   "source": [
    "rhsof[var_] := Module[{}, var /. {var[[0]] :> RHSOf[ToString[var[[0]]]]}];\n",
    "eqssof[varlist_] := Module[{var}, \n",
    "   Table[var = varlist[[ivar]][[1]]; var == rhsof[var]//ScreenDollarIndices, {ivar, 1, Length[varlist]}]];"
   ]
  },
  {
   "cell_type": "markdown",
   "id": "6d7b0b75-d1e8-429e-9d6c-043e7b0ed4ba",
   "metadata": {},
   "source": [
    "## Input"
   ]
  },
  {
   "cell_type": "markdown",
   "id": "84210fa4-4079-421b-a815-caaa601ce621",
   "metadata": {},
   "source": [
    "$$\n",
    "\\begin{align*}\n",
    "&{\\alpha, \\beta^i, \\gamma_{ij}, K_{ij},}\\\\\n",
    "&{\\partial_t\\alpha, \\partial_t\\beta^i, \\partial_t\\gamma_{ij}.}\\\\\n",
    "&{\\partial_k\\alpha, \\partial_k\\beta^i, \\partial_k\\gamma_{ij}.}\n",
    "\\end{align*}\n",
    "$$"
   ]
  },
  {
   "cell_type": "markdown",
   "id": "a8d75c86-62f7-455e-afd7-c9f4cc412e98",
   "metadata": {},
   "source": [
    "$$\n",
    "\\begin{align*}\n",
    "{\\partial_k\\hat{H}_\\mathbf{n}, \\partial_k\\hat{H}_l}\n",
    "\\end{align*}\n",
    "$$"
   ]
  },
  {
   "cell_type": "markdown",
   "id": "83e6e895-887d-408c-ad2e-43e1c7f25023",
   "metadata": {},
   "source": [
    "## Intermediate"
   ]
  },
  {
   "cell_type": "markdown",
   "id": "2d9bfd4f-c2d0-4f0f-8120-3fbbfabaf39d",
   "metadata": {},
   "source": [
    "$$\n",
    "\\begin{align*}\n",
    "\\gamma\n",
    "&=\\det\\left(\\gamma_{ij}\\right),\n",
    "\\\\\n",
    "\\gamma^{ij}\n",
    "&=\\left(\\gamma_{ij}\\right)^{-1},\n",
    "\\\\\n",
    "K\n",
    "&=\\gamma^{ij}K_{ij},\n",
    "\\\\\n",
    "n^c\n",
    "&=\\left(\\alpha^{-1},-\\alpha^{-1}\\beta^i\\right)\n",
    "\\end{align*}\n",
    "$$"
   ]
  },
  {
   "cell_type": "code",
   "execution_count": 8,
   "id": "8467691f-7b47-4642-87b5-384cedca4dde",
   "metadata": {},
   "outputs": [
    {
     "data": {
      "text/html": [
       "<div><img alt=\"Output\" src=\"data:image/png;base64,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\"></div>"
      ],
      "text/plain": [
       "-Image-"
      ]
     },
     "execution_count": 8,
     "metadata": {
      "text/html": [],
      "text/plain": []
     },
     "output_type": "execute_result"
    }
   ],
   "source": [
    "Rasterize[eqssof[ADMTempVarlist][[1;;4]]//MatrixForm]"
   ]
  },
  {
   "cell_type": "markdown",
   "id": "30e7e3e3-f21d-4420-b83b-6b51b39c2028",
   "metadata": {
    "jp-MarkdownHeadingCollapsed": true
   },
   "source": [
    "## Set $\\partial_t\\alpha, \\partial_t\\beta^i, \\partial_t\\gamma_{ij}$"
   ]
  },
  {
   "cell_type": "markdown",
   "id": "0a8a0797-a3e6-4560-ac24-a0a766526491",
   "metadata": {
    "jp-MarkdownHeadingCollapsed": true
   },
   "source": [
    "### $\\partial_t\\gamma_{ij}\n",
    "=-2\\alpha K_{ij}+2D_{(i}\\beta_{j)}\n",
    "=-2\\alpha K_{ij}+2\\partial_{(i}g_{j)0}-\\beta^k\\left(2\\partial_{(i}g_{j)k}-\\partial_kg_{ij}\\right),\n",
    "$"
   ]
  },
  {
   "cell_type": "markdown",
   "id": "6bea818f-f0f3-43c5-bd7e-afb92b30fa57",
   "metadata": {},
   "source": [
    "### $\\partial_t\\alpha,\\partial_t\\beta^i$"
   ]
  },
  {
   "cell_type": "markdown",
   "id": "1c83d817-775d-4711-859f-b79d02677ad3",
   "metadata": {},
   "source": [
    "$$\n",
    "\\begin{align*}\n",
    "{}^{(3)}\\hat\\Gamma^i\n",
    "&=\\gamma^{1/3}\n",
    "\\left(\n",
    "    \\gamma^{ik}\\gamma^{jl}-\\frac{1}{3}\\gamma^{ij}\\gamma^{kl}\n",
    "\\right)\\partial_j\\gamma_{kl}\n",
    "\\\\\n",
    "{\\partial_t\\alpha}\n",
    "&=\\beta^k\\partial_k\\alpha - 2\\alpha K,\n",
    "\\\\\n",
    "{\\partial_t\\beta^i}\n",
    "&=\\beta^k\\partial_k\\beta^i+\\nu^{(3)}\\hat\\Gamma^i-\\eta\\beta^i.\n",
    "\\end{align*}\n",
    "$$"
   ]
  },
  {
   "cell_type": "markdown",
   "id": "20cf6a52-fcb3-4cb0-9924-29c0d5c1f2a8",
   "metadata": {},
   "source": [
    "## Set $\\partial_cg_{ab}$"
   ]
  },
  {
   "cell_type": "markdown",
   "id": "b9cfaaa4-3ec4-42df-b186-47ed8dac2fc5",
   "metadata": {},
   "source": [
    "$$\n",
    "\\begin{align*}\n",
    "\\partial_cg_{ij}\n",
    "&=\\partial_c\\gamma_{ij},\n",
    "\\\\\n",
    "\\partial_cg_{0j}\n",
    "&=\\beta^l\\partial_c\\gamma_{jl}+\\gamma_{jl}\\partial_c\\beta^l,\n",
    "\\\\\n",
    "\\partial_cg_{00}\n",
    "&=-2\\alpha\\partial_c\\alpha+2\\beta_l\\partial_c\\beta^l+\\beta^i\\beta^j\\partial_c\\gamma_{ij},\n",
    "%\\\\\n",
    "%\\partial_tg_{ij}\n",
    "%&\n",
    "%=\\partial_t\\gamma_{ij}\n",
    "%\\\\\n",
    "%\\partial_tg_{0j}\n",
    "%&=\\beta^k\\partial_tg_{jk}+\\gamma_{jk}\\textcolor{red}{\\partial_t\\beta^k},\n",
    "%\\\\\n",
    "%\\partial_tg_{00}\n",
    "%&=-2\\alpha\\textcolor{red}{\\partial_t\\alpha}\n",
    "%+2\\beta_l\\textcolor{red}{\\partial_t\\beta^l}+\\beta^i\\beta^j\\partial_tg_{ij},\n",
    "\\end{align*}\n",
    "$$"
   ]
  },
  {
   "cell_type": "markdown",
   "id": "94d72961-c5eb-44d3-abfd-978e0262f07f",
   "metadata": {},
   "source": [
    "since\n",
    "$\n",
    "2\\Gamma^k{}_{ij}\\beta_k\n",
    "=\\gamma^{kl}\n",
    "\\left(\\partial_i\\gamma_{jl}+\\partial_j\\gamma_{li}-\\partial_l\\gamma_{ij}\\right)\\beta_k\n",
    "$"
   ]
  },
  {
   "cell_type": "markdown",
   "id": "96b02bc6-c58d-411f-917c-1d4326c7c70e",
   "metadata": {},
   "source": [
    "## Set $g^{ab}, \\Gamma_{cab}, \\Gamma_c$"
   ]
  },
  {
   "cell_type": "markdown",
   "id": "c69d70c6-44e9-48e4-9422-a4c546a84182",
   "metadata": {},
   "source": [
    "$$\n",
    "\\begin{align*}\n",
    "g^{ab}\n",
    "&=\\gamma^{ab} - n^an^b\n",
    "%&=\n",
    "%\\begin{pmatrix}\n",
    "%-\\alpha^{-2} & \\alpha^{-2}\\beta^i \\\\\n",
    "%\\alpha^{-2}\\beta^j & \\gamma^{ij}-\\alpha^{-2}\\beta^i\\beta^j\n",
    "%\\end{pmatrix}\n",
    "\\\\\n",
    "\\Gamma_{cab}\n",
    "&=\\frac{1}{2}\n",
    "\\left(\n",
    "  \\partial_ag_{bc}+\\partial_bg_{ca}-\\partial_cg_{ab}\n",
    "\\right),\n",
    "\\\\\n",
    "\\Gamma_c\n",
    "&=g^{ab}\\Gamma_{cab},\n",
    "\\end{align*}\n",
    "$$"
   ]
  },
  {
   "cell_type": "markdown",
   "id": "ed9eb2c2-a498-4aa8-9e74-3d6f06b2ff3a",
   "metadata": {},
   "source": [
    "## Set cGHG Variables"
   ]
  },
  {
   "cell_type": "markdown",
   "id": "9db4a5d9-196d-4171-8e1c-3fcdfb61f848",
   "metadata": {},
   "source": [
    "$$\n",
    "\\begin{align*}\n",
    "W\n",
    "&=\\gamma^{-1/6},\n",
    "\\\\\n",
    "\\varPi\n",
    "&=-\\alpha\\partial_\\mathbf{n}W=\\frac{1}{6}\\alpha W\\gamma^{kl}\\partial_\\mathbf{n}\\gamma_{kl},\n",
    "\\\\\n",
    "\\varPhi_i\n",
    "&=\\alpha\\partial_iW=-\\frac{1}{6}\\alpha W\\gamma^{kl}\\partial_i\\gamma_{kl}.\n",
    "\\end{align*}\n",
    "$$"
   ]
  },
  {
   "cell_type": "markdown",
   "id": "aa250129-d328-4421-901a-e3e9be90718b",
   "metadata": {},
   "source": [
    "$$\n",
    "\\begin{align*}\n",
    "\\hat{g}_\\mathbf{nn}\n",
    "&=-2\\alpha,\n",
    "\\\\\n",
    "\\hat{g}_\\mathbf{n}{}^i\n",
    "&=\\beta^i,\n",
    "\\\\\n",
    "\\hat{g}_{ij}\n",
    "&=W^2\\gamma_{ij}.\n",
    "\\end{align*}\n",
    "$$"
   ]
  },
  {
   "cell_type": "markdown",
   "id": "df6886ba-aa19-4462-8b24-b3ab536cd84f",
   "metadata": {},
   "source": [
    "$$\n",
    "\\begin{align*}\n",
    "\\hat\\Pi_\\mathbf{nn}\n",
    "&=-\\alpha^2\\partial_\\mathbf{n}g_\\mathbf{nn},\n",
    "\\\\\n",
    "\\hat\\Pi_\\mathbf{n}{}^i\n",
    "&=-\\alpha^2\\gamma^{ij}\\partial_\\mathbf{n}g_{\\mathbf{n}j},\n",
    "\\\\\n",
    "\\hat\\Pi_{ij}\n",
    "&=-\\alpha W^2\\partial_\\mathbf{n}g_{ij}+2W \\varPi\\gamma_{ij},\n",
    "\\end{align*}\n",
    "$$"
   ]
  },
  {
   "cell_type": "markdown",
   "id": "234d22e3-eb66-4095-a1fd-277c6363a2d8",
   "metadata": {},
   "source": [
    "$$\n",
    "\\begin{align*}\n",
    "\\hat\\Phi_{k\\mathbf{nn}}\n",
    "&=\\alpha^2\\partial_kg_\\mathbf{nn},\n",
    "\\\\\n",
    "\\hat\\Phi_{k\\mathbf{n}}{}^i\n",
    "&=\\alpha^2\\gamma^{ij}\\partial_kg_{\\mathbf{n}j},\n",
    "\\\\\n",
    "\\hat\\Phi_{kij}\n",
    "&=\\alpha W^2\\partial_kg_{ij}+2W\\varPhi_k\\gamma_{ij}.\n",
    "\\end{align*}\n",
    "$$"
   ]
  },
  {
   "cell_type": "markdown",
   "id": "4dadd396-f25f-4921-82b2-9d0e7497547b",
   "metadata": {},
   "source": [
    "$$\n",
    "\\begin{align*}\n",
    "\\hat{H}_\\mathbf{n}\n",
    "&=-\\alpha\\Gamma_\\mathbf{n},\n",
    "\\\\\n",
    "\\hat{H}_i\n",
    "&=-\\alpha^2W^2\\Gamma_i.\n",
    "\\end{align*}\n",
    "$$"
   ]
  },
  {
   "cell_type": "markdown",
   "id": "4e6c9001-0fd8-432b-8d7a-bdff4bb3cac3",
   "metadata": {},
   "source": [
    "$$\n",
    "\\begin{align*}\n",
    "\\hat\\theta_\\mathbf{n}\n",
    "&=-\\beta^k\\partial_k\\hat{H}_\\mathbf{n},\n",
    "\\\\\n",
    "\\hat\\theta_i\n",
    "&=-\\beta^k\\partial_k\\hat{H}_i.\n",
    "\\end{align*}\n",
    "$$"
   ]
  }
 ],
 "metadata": {
  "kernelspec": {
   "display_name": "Wolfram Language 14.1",
   "language": "Wolfram Language",
   "name": "wolframlanguage14.1"
  },
  "language_info": {
   "codemirror_mode": "mathematica",
   "file_extension": ".m",
   "mimetype": "application/vnd.wolfram.m",
   "name": "Wolfram Language",
   "pygments_lexer": "mathematica",
   "version": "12.0"
  }
 },
 "nbformat": 4,
 "nbformat_minor": 5
}
