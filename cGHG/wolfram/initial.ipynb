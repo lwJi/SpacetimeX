{
 "cells": [
  {
   "cell_type": "markdown",
   "id": "8ef6bef8-176a-4f80-8a79-931042d75967",
   "metadata": {},
   "source": [
    "# Set Initial Data from ADM Variables"
   ]
  },
  {
   "cell_type": "markdown",
   "id": "6d7b0b75-d1e8-429e-9d6c-043e7b0ed4ba",
   "metadata": {},
   "source": [
    "## Input"
   ]
  },
  {
   "cell_type": "markdown",
   "id": "84210fa4-4079-421b-a815-caaa601ce621",
   "metadata": {},
   "source": [
    "$$\n",
    "\\begin{align*}\n",
    "&\\textcolor{blue}{\\alpha, \\beta^i, \\gamma_{ij}, K_{ij},}\\\\\n",
    "&\\textcolor{blue}{\\partial_k\\alpha, \\partial_k\\beta^i, \\partial_k\\gamma_{ij}.}\n",
    "\\end{align*}\n",
    "$$"
   ]
  },
  {
   "cell_type": "markdown",
   "id": "a8d75c86-62f7-455e-afd7-c9f4cc412e98",
   "metadata": {},
   "source": [
    "$$\n",
    "\\begin{align*}\n",
    "\\textcolor{blue}{\\partial_k\\hat{H}_\\mathbf{n}, \\partial_k\\hat{H}_l}\n",
    "\\end{align*}\n",
    "$$"
   ]
  },
  {
   "cell_type": "markdown",
   "id": "83e6e895-887d-408c-ad2e-43e1c7f25023",
   "metadata": {},
   "source": [
    "## Intermediate"
   ]
  },
  {
   "cell_type": "markdown",
   "id": "2d9bfd4f-c2d0-4f0f-8120-3fbbfabaf39d",
   "metadata": {},
   "source": [
    "$$\n",
    "\\begin{align*}\n",
    "\\gamma\n",
    "&=\\det\\left(\\gamma_{ij}\\right),\n",
    "\\\\\n",
    "\\gamma^{ij}\n",
    "&=\\left(\\gamma_{ij}\\right)^{-1},\n",
    "\\\\\n",
    "K\n",
    "&=\\gamma^{ij}K_{ij},\n",
    "\\\\\n",
    "n^c\n",
    "&=\\left(\\alpha^{-1},-\\alpha^{-1}\\beta^i\\right)\n",
    "\\end{align*}\n",
    "$$"
   ]
  },
  {
   "cell_type": "markdown",
   "id": "30e7e3e3-f21d-4420-b83b-6b51b39c2028",
   "metadata": {},
   "source": [
    "## Set $\\partial_t\\alpha, \\partial_t\\beta^i$"
   ]
  },
  {
   "cell_type": "markdown",
   "id": "1c83d817-775d-4711-859f-b79d02677ad3",
   "metadata": {},
   "source": [
    "$$\n",
    "\\begin{align*}\n",
    "{}^{(3)}\\hat\\Gamma^i\n",
    "&=\\gamma^{1/3}\n",
    "\\left(\n",
    "    \\gamma^{ik}\\gamma^{jl}-\\frac{1}{3}\\gamma^{ij}\\gamma^{kl}\n",
    "\\right)\\partial_j\\gamma_{kl}\n",
    "\\\\\n",
    "\\textcolor{red}{\\partial_t\\alpha}\n",
    "&=\\beta^k\\partial_k\\alpha - 2\\alpha K,\n",
    "\\\\\n",
    "\\textcolor{red}{\\partial_t\\beta^i}\n",
    "&=\\beta^k\\partial_k\\beta^i+\\nu^{(3)}\\hat\\Gamma^i-\\eta\\beta^i.\n",
    "\\end{align*}\n",
    "$$"
   ]
  },
  {
   "cell_type": "markdown",
   "id": "20cf6a52-fcb3-4cb0-9924-29c0d5c1f2a8",
   "metadata": {},
   "source": [
    "## Set $\\partial_cg_{ab}$"
   ]
  },
  {
   "cell_type": "markdown",
   "id": "b9cfaaa4-3ec4-42df-b186-47ed8dac2fc5",
   "metadata": {},
   "source": [
    "$$\n",
    "\\begin{align*}\n",
    "\\partial_kg_{ij}\n",
    "&=\\partial_k\\gamma_{ij},\n",
    "\\\\\n",
    "\\partial_kg_{0j}\n",
    "&=\\beta^l\\partial_k\\gamma_{jl}+\\gamma_{jl}\\partial_k\\beta^l,\n",
    "\\\\\n",
    "\\partial_kg_{00}\n",
    "&=-2\\alpha\\partial_k\\alpha+2\\beta_l\\partial_k\\beta^l+\\beta^i\\beta^j\\partial_k\\gamma_{ij},\n",
    "\\\\\n",
    "\\partial_tg_{ij}\n",
    "&=-2\\alpha K_{ij}+2D_{(i}\\beta_{j)}\n",
    "=-2\\alpha K_{ij}+2\\partial_{(i}g_{j)0}-\\beta^k\\left(2\\partial_{(i}g_{j)k}-\\partial_kg_{ij}\\right),\n",
    "\\\\\n",
    "\\partial_tg_{0j}\n",
    "&=\\beta^k\\partial_tg_{jk}+\\gamma_{jk}\\textcolor{red}{\\partial_t\\beta^k},\n",
    "\\\\\n",
    "\\partial_tg_{00}\n",
    "&=-2\\alpha\\textcolor{red}{\\partial_t\\alpha}\n",
    "+2\\beta_l\\textcolor{red}{\\partial_t\\beta^l}+\\beta^i\\beta^j\\partial_tg_{ij},\n",
    "\\end{align*}\n",
    "$$"
   ]
  },
  {
   "cell_type": "markdown",
   "id": "94d72961-c5eb-44d3-abfd-978e0262f07f",
   "metadata": {},
   "source": [
    "since\n",
    "$\n",
    "2\\Gamma^k{}_{ij}\\beta_k\n",
    "=\\gamma^{kl}\n",
    "\\left(\\partial_i\\gamma_{jl}+\\partial_j\\gamma_{li}-\\partial_l\\gamma_{ij}\\right)\\beta_k\n",
    "$"
   ]
  },
  {
   "cell_type": "markdown",
   "id": "96b02bc6-c58d-411f-917c-1d4326c7c70e",
   "metadata": {},
   "source": [
    "## Set $g^{ab}, \\Gamma_{cab}, \\Gamma_c$"
   ]
  },
  {
   "cell_type": "markdown",
   "id": "c69d70c6-44e9-48e4-9422-a4c546a84182",
   "metadata": {},
   "source": [
    "$$\n",
    "\\begin{align*}\n",
    "g^{ab}\n",
    "&=\\gamma^{ab} - n^an^b\n",
    "%&=\n",
    "%\\begin{pmatrix}\n",
    "%-\\alpha^{-2} & \\alpha^{-2}\\beta^i \\\\\n",
    "%\\alpha^{-2}\\beta^j & \\gamma^{ij}-\\alpha^{-2}\\beta^i\\beta^j\n",
    "%\\end{pmatrix}\n",
    "\\\\\n",
    "\\Gamma_{cab}\n",
    "&=\\frac{1}{2}\n",
    "\\left(\n",
    "  \\partial_ag_{bc}+\\partial_bg_{ca}-\\partial_cg_{ab}\n",
    "\\right),\n",
    "\\\\\n",
    "\\Gamma_c\n",
    "&=g^{ab}\\Gamma_{cab},\n",
    "\\end{align*}\n",
    "$$"
   ]
  },
  {
   "cell_type": "markdown",
   "id": "ed9eb2c2-a498-4aa8-9e74-3d6f06b2ff3a",
   "metadata": {},
   "source": [
    "## Set cGHG Variables"
   ]
  },
  {
   "cell_type": "markdown",
   "id": "9db4a5d9-196d-4171-8e1c-3fcdfb61f848",
   "metadata": {},
   "source": [
    "$$\n",
    "\\begin{align*}\n",
    "W\n",
    "&=\\gamma^{-1/6},\n",
    "\\\\\n",
    "\\varPi\n",
    "&=-\\alpha\\partial_\\mathbf{n}W=\\frac{1}{6}\\alpha W\\gamma^{kl}\\partial_\\mathbf{n}\\gamma_{kl},\n",
    "\\\\\n",
    "\\varPhi_i\n",
    "&=\\alpha\\partial_iW=-\\frac{1}{6}\\alpha W\\gamma^{kl}\\partial_i\\gamma_{kl}.\n",
    "\\end{align*}\n",
    "$$"
   ]
  },
  {
   "cell_type": "markdown",
   "id": "aa250129-d328-4421-901a-e3e9be90718b",
   "metadata": {},
   "source": [
    "$$\n",
    "\\begin{align*}\n",
    "\\hat{g}_\\mathbf{nn}\n",
    "&=-2\\alpha,\n",
    "\\\\\n",
    "\\hat{g}_\\mathbf{n}{}^i\n",
    "&=\\beta^i,\n",
    "\\\\\n",
    "\\hat{g}_{ij}\n",
    "&=W^2\\gamma_{ij}.\n",
    "\\end{align*}\n",
    "$$"
   ]
  },
  {
   "cell_type": "markdown",
   "id": "df6886ba-aa19-4462-8b24-b3ab536cd84f",
   "metadata": {},
   "source": [
    "$$\n",
    "\\begin{align*}\n",
    "\\hat\\Pi_\\mathbf{nn}\n",
    "&=-\\alpha^2\\partial_\\mathbf{n}g_\\mathbf{nn},\n",
    "\\\\\n",
    "\\hat\\Pi_\\mathbf{n}{}^i\n",
    "&=-\\alpha^2\\gamma^{ij}\\partial_\\mathbf{n}g_{\\mathbf{n}j},\n",
    "\\\\\n",
    "\\hat\\Pi_{ij}\n",
    "&=-\\alpha W^2\\partial_\\mathbf{n}g_{ij}+2W \\varPi\\gamma_{ij},\n",
    "\\end{align*}\n",
    "$$"
   ]
  },
  {
   "cell_type": "markdown",
   "id": "234d22e3-eb66-4095-a1fd-277c6363a2d8",
   "metadata": {},
   "source": [
    "$$\n",
    "\\begin{align*}\n",
    "\\hat\\Phi_{k\\mathbf{nn}}\n",
    "&=\\alpha^2\\partial_kg_\\mathbf{nn},\n",
    "\\\\\n",
    "\\hat\\Phi_{k\\mathbf{n}}{}^i\n",
    "&=\\alpha^2\\gamma^{ij}\\partial_kg_{\\mathbf{n}j},\n",
    "\\\\\n",
    "\\hat\\Phi_{kij}\n",
    "&=\\alpha W^2\\partial_kg_{ij}+2W\\varPhi_k\\gamma_{ij}.\n",
    "\\end{align*}\n",
    "$$"
   ]
  },
  {
   "cell_type": "markdown",
   "id": "4dadd396-f25f-4921-82b2-9d0e7497547b",
   "metadata": {},
   "source": [
    "$$\n",
    "\\begin{align*}\n",
    "\\hat{H}_\\mathbf{n}\n",
    "&=-\\alpha\\Gamma_\\mathbf{n},\n",
    "\\\\\n",
    "\\hat{H}_i\n",
    "&=-\\alpha^2W^2\\Gamma_i.\n",
    "\\end{align*}\n",
    "$$"
   ]
  },
  {
   "cell_type": "markdown",
   "id": "4e6c9001-0fd8-432b-8d7a-bdff4bb3cac3",
   "metadata": {},
   "source": [
    "$$\n",
    "\\begin{align*}\n",
    "\\hat\\theta_\\mathbf{n}\n",
    "&=-\\beta^k\\partial_k\\hat{H}_\\mathbf{n},\n",
    "\\\\\n",
    "\\hat\\theta_i\n",
    "&=-\\beta^k\\partial_k\\hat{H}_i.\n",
    "\\end{align*}\n",
    "$$"
   ]
  }
 ],
 "metadata": {
  "kernelspec": {
   "display_name": "Wolfram Language 14.1",
   "language": "Wolfram Language",
   "name": "wolframlanguage14.1"
  },
  "language_info": {
   "codemirror_mode": "mathematica",
   "file_extension": ".m",
   "mimetype": "application/vnd.wolfram.m",
   "name": "Wolfram Language",
   "pygments_lexer": "mathematica",
   "version": "12.0"
  }
 },
 "nbformat": 4,
 "nbformat_minor": 5
}
