{
 "cells": [
  {
   "cell_type": "markdown",
   "id": "61cb13fc-f066-4cea-bf0f-f4f8696d1405",
   "metadata": {},
   "source": [
    "# Check RHS Expression of cGHG system"
   ]
  },
  {
   "cell_type": "code",
   "execution_count": 2,
   "id": "a9bc8a0b-43e1-4a23-a748-d13058ea199f",
   "metadata": {},
   "outputs": [
    {
     "name": "stdout",
     "output_type": "stream",
     "text": [
      "------------------------------------------------------------\n",
      "Package xAct`xPerm`  version 1.2.3, {2015, 8, 23}\n",
      "CopyRight (C) 2003-2020, Jose M. Martin-Garcia, under the General Public\\\n",
      " \n",
      ">   License.\n",
      "Connecting to external mac executable...\n",
      "Connection established.\n",
      "------------------------------------------------------------\n",
      "Package xAct`xTensor`  version 1.2.0, {2021, 10, 17}\n",
      "CopyRight (C) 2002-2021, Jose M. Martin-Garcia, under the General Public\\\n",
      " \n",
      ">   License.\n",
      "------------------------------------------------------------\n",
      "These packages come with ABSOLUTELY NO WARRANTY; for details type\\\n",
      " \n",
      ">   Disclaimer[]. This is free software, and you are welcome to redistribute\\\n",
      " \n",
      ">   it under certain conditions. See the General Public License for details.\n",
      "------------------------------------------------------------\n",
      "------------------------------------------------------------\n",
      "Package xAct`xCoba`  version 0.8.6, {2021, 2, 28}\n",
      "CopyRight (C) 2005-2021, David Yllanes and Jose M. Martin-Garcia, under the\\\n",
      " \n",
      ">   General Public License.\n",
      "------------------------------------------------------------\n",
      "These packages come with ABSOLUTELY NO WARRANTY; for details type\\\n",
      " \n",
      ">   Disclaimer[]. This is free software, and you are welcome to redistribute\\\n",
      " \n",
      ">   it under certain conditions. See the General Public License for details.\n",
      "------------------------------------------------------------\n",
      "------------------------------------------------------------\n",
      "Package Generato`Basic`, {2024, 1, 11}\n",
      "------------------------------------------------------------\n",
      "------------------------------------------------------------\n",
      "Package Generato`ParseMode`, {2024, 7, 06}\n",
      "------------------------------------------------------------\n",
      "------------------------------------------------------------\n",
      "Package Generato`Component`, {2024, 1, 11}\n",
      "------------------------------------------------------------\n",
      "------------------------------------------------------------\n",
      "Package Generato`Varlist`, {2024, 1, 11}\n",
      "------------------------------------------------------------\n",
      "------------------------------------------------------------\n",
      "Package Generato`Interface`, {2024, 1, 11}\n",
      "------------------------------------------------------------\n",
      "------------------------------------------------------------\n",
      "Package Generato`Derivation`, {2024, 1, 18}\n",
      "------------------------------------------------------------\n",
      "\n"
     ]
    }
   ],
   "source": [
    "Needs[\"xAct`xCoba`\", FileNameJoin[{Environment[\"GENERATO\"], \"src/Generato.wl\"}]]"
   ]
  },
  {
   "cell_type": "code",
   "execution_count": 3,
   "id": "6d6a2f4b-ed5c-468a-b76e-18faa1c97d64",
   "metadata": {},
   "outputs": [],
   "source": [
    "DefManifold[M4, 4, IndexRange[a, z]];"
   ]
  },
  {
   "cell_type": "code",
   "execution_count": 4,
   "id": "93bb29fb-e3bf-4c9d-93d1-5c216a01b74a",
   "metadata": {},
   "outputs": [],
   "source": [
    "DefChart[cart, M4, {0, 1, 2, 3}, {T[], X[], Y[], Z[]}, ChartColor -> Blue];"
   ]
  },
  {
   "cell_type": "code",
   "execution_count": 5,
   "id": "2b42dbe3-5944-4504-b0a7-094e3b882b4d",
   "metadata": {},
   "outputs": [],
   "source": [
    "<< \"wl/cGHG_vars_check.wl\";"
   ]
  },
  {
   "cell_type": "code",
   "execution_count": 6,
   "id": "acd9b69a-4d40-4ba6-8f12-d19940984f7a",
   "metadata": {},
   "outputs": [],
   "source": [
    "<< \"wl/ADM_vars_check.wl\";"
   ]
  },
  {
   "cell_type": "code",
   "execution_count": 7,
   "id": "0965caf1-b705-480d-a359-9e154c241871",
   "metadata": {},
   "outputs": [],
   "source": [
    "<< \"wl/cGHG_rhs.wl\";"
   ]
  },
  {
   "cell_type": "markdown",
   "id": "50784e19-fa75-4c3e-be38-bd36c4294b90",
   "metadata": {
    "jp-MarkdownHeadingCollapsed": true
   },
   "source": [
    "## Define Scalar Functions"
   ]
  },
  {
   "cell_type": "code",
   "execution_count": null,
   "id": "e1b4fbc7-8b5d-4e7b-8462-072b6f88f300",
   "metadata": {},
   "outputs": [],
   "source": [
    "DefScalarFunction[fW];\n",
    "Module[{co = {x, y, z}},\n",
    "  DefScalarFunction[falpha];\n",
    "  Do[DefScalarFunction[ToExpression[\"fbeta\" <> ToString[co[[ii]]]]], {ii, 1, 3}];\n",
    "  Do[DefScalarFunction[ToExpression[\"fgamma\" <> ToString[co[[ii]]] <> ToString[co[[jj]]]]], {ii, 1, 3}, {jj, ii, 3}];\n",
    "  Do[DefScalarFunction[ToExpression[\"fK\" <> ToString[co[[ii]]] <> ToString[co[[jj]]]]], {ii, 1, 3}, {jj, ii, 3}]\n",
    "];\n",
    "Module[{co = {x, y, z}},\n",
    "  DefScalarFunction[fdtalpha];\n",
    "  Do[DefScalarFunction[ToExpression[\"fdtbeta\" <> ToString[co[[ii]]]]], {ii, 1, 3}];\n",
    "  Do[DefScalarFunction[ToExpression[\"fdtgamma\" <> ToString[co[[ii]]] <> ToString[co[[jj]]]]], {ii, 1, 3}, {jj, ii, 3}]\n",
    "];"
   ]
  },
  {
   "cell_type": "markdown",
   "id": "e8376c49-e29a-4e4c-988c-158237f04c7e",
   "metadata": {
    "jp-MarkdownHeadingCollapsed": true
   },
   "source": [
    "## Set ADM Variable Components with Scalar Functions"
   ]
  },
  {
   "cell_type": "code",
   "execution_count": null,
   "id": "ad8fa166-6f19-4380-abd6-b5fc547038d3",
   "metadata": {},
   "outputs": [],
   "source": [
    "ComponentValue[W[], fW[X[], Y[], Z[]]];"
   ]
  },
  {
   "cell_type": "code",
   "execution_count": null,
   "id": "c9106b33-afe0-43ba-8e47-160c35b7be6b",
   "metadata": {},
   "outputs": [],
   "source": [
    "Module[{co = {x, y, z}},\n",
    "  ComponentValue[ADMalpha[], falpha[X[], Y[], Z[]]];\n",
    "  Do[ComponentValue[ADMbeta[{ii, cart}], If[ii == 0, 0, ToExpression[\"fbeta\" <> ToString[co[[ii]]] <> \"[X[],Y[],Z[]]\"]]], {ii, 0, 3}];\n",
    "  Do[ComponentValue[ADMgamma[{ii, -cart}, {jj, -cart}], ToExpression[\"fgamma\" <> ToString[co[[ii]]] <> ToString[co[[jj]]] <> \"[X[],Y[],Z[]]\"]], {ii, 1, 3}, {jj, ii, 3}];\n",
    "  Do[ComponentValue[ADMexK[{ii, -cart}, {jj, -cart}], ToExpression[\"fK\" <> ToString[co[[ii]]] <> ToString[co[[jj]]] <> \"[X[],Y[],Z[]]\"]], {ii, 1, 3}, {jj, ii, 3}]\n",
    "];\n",
    "ADMgamma[-i, -j] // ToBasis[cart] // ComponentArray // ComponentValue;\n",
    "ADMexK[-i, -j] // ToBasis[cart] // ComponentArray // ComponentValue;"
   ]
  },
  {
   "cell_type": "code",
   "execution_count": null,
   "id": "25d98c72-41ea-43c7-8983-6594213a6f78",
   "metadata": {},
   "outputs": [],
   "source": [
    "Module[{co = {x, y, z}},\n",
    "  ComponentValue[ADMdtalpha[], fdtalpha[X[], Y[], Z[]]];\n",
    "  Do[ComponentValue[ADMdtbeta[{ii, cart}], If[ii == 0, 0, ToExpression[\"fdtbeta\" <> ToString[co[[ii]]] <> \"[X[],Y[],Z[]]\"]]], {ii, 0, 3}];\n",
    "  Do[ComponentValue[ADMdtgamma[{ii, -cart}, {jj, -cart}], ToExpression[\"fdtgamma\" <> ToString[co[[ii]]] <> ToString[co[[jj]]] <> \"[X[],Y[],Z[]]\"]], {ii, 1, 3}, {jj, ii, 3}]\n",
    "];\n",
    "ADMdtgamma[-i, -j] // ToBasis[cart] // ComponentArray // ComponentValue;"
   ]
  },
  {
   "cell_type": "markdown",
   "id": "19b07ac8-9511-4896-81a7-8e2dabc4c1ef",
   "metadata": {},
   "source": [
    "## Set Auxiliary Variables with ADM Variables"
   ]
  },
  {
   "cell_type": "markdown",
   "id": "453431ce-e6f1-4659-aa64-564ebff9df6a",
   "metadata": {
    "jp-MarkdownHeadingCollapsed": true
   },
   "source": [
    "### $\\alpha,\\beta^i$"
   ]
  },
  {
   "cell_type": "code",
   "execution_count": null,
   "id": "bc71fc92-7d2f-412e-90fb-d9a8d5a201a6",
   "metadata": {},
   "outputs": [],
   "source": [
    "ComponentValue[alpha[], ADMalpha[] // ToValues];\n",
    "Do[ComponentValue[beta[{ii, cart}], ADMbeta[{ii, cart}] // ToValues], {ii, 0, 3}];"
   ]
  },
  {
   "cell_type": "markdown",
   "id": "74fcef5e-506c-4ee8-a32b-447304630d3a",
   "metadata": {
    "jp-MarkdownHeadingCollapsed": true
   },
   "source": [
    "### $\\gamma^{ij}=(\\gamma_{ij})^{-1}, \\hat\\gamma^{ij}=W^{-2}\\gamma^{ij}$ where $W=(\\gamma/\\hat{g})^{-1/6}=\\gamma^{-1/6}$"
   ]
  },
  {
   "cell_type": "code",
   "execution_count": null,
   "id": "0de9a461-f78b-488d-9af0-4f4afbc98f40",
   "metadata": {},
   "outputs": [],
   "source": [
    "Module[{gammaMat, invgammaMat},\n",
    "  gammaMat = Table[ADMgamma[{ii, -cart}, {jj, -cart}] // ToValues, {ii, 1, 3}, {jj, 1, 3}];\n",
    "  invgammaMat = Inverse[gammaMat] /. {1/Det[gammaMat] -> (W[] // ToValues)^6};\n",
    "  Do[ComponentValue[invgam[{aa, cart}, {bb, cart}], If[aa == 0 || bb == 0, 0, invgammaMat[[aa, bb]]]], {aa, 0, 3}, {bb, 0, 3}]\n",
    "];\n",
    "Do[ComponentValue[invhg[{aa, cart}, {bb, cart}], If[aa == 0 || bb == 0, 0, (W[] // ToValues)^-2 invgam[{aa, cart}, {bb, cart}] // ToValues]], {aa, 0, 3}, {bb, 0, 3}];"
   ]
  },
  {
   "cell_type": "markdown",
   "id": "29b49bee-15ab-4dd7-8acf-300c87a7571c",
   "metadata": {
    "jp-MarkdownHeadingCollapsed": true
   },
   "source": [
    "### $n^a = (\\alpha^{-1},-\\alpha^{-1}\\beta^i)$"
   ]
  },
  {
   "cell_type": "code",
   "execution_count": null,
   "id": "89902937-8e1b-4f8f-a61f-5873b2c140ad",
   "metadata": {},
   "outputs": [],
   "source": [
    "Do[ComponentValue[nvec[{aa, cart}], If[aa == 0, ADMalpha[]^-1, -ADMalpha[]^-1 ADMbeta[{aa, cart}]] // ToValues], {aa, 0, 3}];"
   ]
  },
  {
   "cell_type": "markdown",
   "id": "9394b80f-f5e5-400e-8a1f-eb29e6913131",
   "metadata": {
    "jp-MarkdownHeadingCollapsed": true
   },
   "source": [
    "### $g^{ab}=\\gamma^{ab}-n^an^b$"
   ]
  },
  {
   "cell_type": "code",
   "execution_count": null,
   "id": "a523812b-54f7-4043-a870-c23d59f7881c",
   "metadata": {},
   "outputs": [],
   "source": [
    "Do[ComponentValue[invg4[{aa, cart}, {bb, cart}], invgam[{aa, cart}, {bb, cart}] - nvec[{aa, cart}] nvec[{bb, cart}] // ToValues], {aa, 0, 3}, {bb, 0, 3}];b"
   ]
  },
  {
   "cell_type": "markdown",
   "id": "ebdcfe2b-b3cb-495c-99b1-945fb1830915",
   "metadata": {
    "jp-MarkdownHeadingCollapsed": true
   },
   "source": [
    "### $\\partial_cg_{ij}=\\partial_c\\gamma_{ij}, \\partial_cg_{0i}=\\partial_c\\gamma_{il}\\beta^l+\\gamma_{il}\\partial_c\\beta^l, \\partial_cg_{00}=-2\\alpha\\partial_c\\alpha+2\\beta_l\\partial_c\\beta^l+\\beta^k\\beta^l\\partial_c\\gamma_{kl}$"
   ]
  },
  {
   "cell_type": "code",
   "execution_count": null,
   "id": "3c3178df-a31c-464a-9b16-fedb30bd0d54",
   "metadata": {},
   "outputs": [],
   "source": [
    "Do[ComponentValue[dg4[{cc, -cart}, {aa, -cart}, {bb, -cart}],\n",
    "    If[cc == 0,\n",
    "        If[aa == 0 && bb == 0,\n",
    "            -2 ADMalpha[] ADMdtalpha[] + 2 ADMgamma[-k, -l] ADMbeta[k] ADMdtbeta[l] + ADMbeta[k] ADMbeta[l] ADMdtgamma[-k, -l],\n",
    "            If[aa == 0,\n",
    "                ADMbeta[l] ADMdtgamma[{bb, -cart}, -l] + ADMgamma[{bb, -cart}, -l] ADMdtbeta[l],\n",
    "                ADMdtgamma[{aa, -cart}, {bb, -cart}]\n",
    "            ]\n",
    "        ],\n",
    "        If[aa == 0 && bb == 0,\n",
    "            -2 ADMalpha[] PDcart[{cc, -cart}][ADMalpha[]] + 2 ADMgamma[-k, -l] ADMbeta[k] PDcart[{cc, -cart}][ADMbeta[l]] + ADMbeta[k] ADMbeta[l] PDcart[{cc, -cart}][ADMgamma[-k, -l]],\n",
    "            If[aa == 0,\n",
    "                ADMbeta[l] PDcart[{cc, -cart}][ADMgamma[{bb, -cart}, -l]] + ADMgamma[{bb, -cart}, -l] PDcart[{cc, -cart}][ADMbeta[l]],\n",
    "                PDcart[{cc, -cart}][ADMgamma[{aa, -cart}, {bb, -cart}]]\n",
    "            ]\n",
    "        ]\n",
    "    ] // DummyToBasis[cart] // TraceBasisDummy // ToValues\n",
    "], {cc, 0, 3}, {aa, 0, 3}, {bb, aa, 3}];"
   ]
  },
  {
   "cell_type": "code",
   "execution_count": null,
   "id": "f40f5779-2d2d-44c8-90e4-28fbc4a7c87f",
   "metadata": {},
   "outputs": [],
   "source": [
    "dg4[-c, -a, -b] // ToBasis[cart] // ComponentArray // ComponentValue;"
   ]
  },
  {
   "cell_type": "markdown",
   "id": "591531b6-472c-42ea-a788-5ef3a351e44a",
   "metadata": {},
   "source": [
    "## Set cGHG Evolution Variables with Auxiliary Variables and ADM Variables"
   ]
  },
  {
   "cell_type": "markdown",
   "id": "37470d7c-6c64-449c-8d1c-4383ab85cbb1",
   "metadata": {
    "jp-MarkdownHeadingCollapsed": true
   },
   "source": [
    "### $\\varPi=-\\alpha\\partial_nW=\\frac{1}{6}\\alpha W\\gamma^{kl}\\partial_n\\gamma_{kl}, \\Phi_i=\\alpha\\partial_iW=-\\frac{1}{6}\\alpha W\\gamma^{kl}\\partial_i\\gamma_{kl}$"
   ]
  },
  {
   "cell_type": "code",
   "execution_count": null,
   "id": "a0236004-84e3-4b85-bfc6-35c59354cdc3",
   "metadata": {},
   "outputs": [],
   "source": [
    "ComponentValue[WPi[], 1/6 alpha[] W[] invgam[k, l] nvec[c] dg4[-c, -k, -l] // DummyToBasis[cart] // TraceBasisDummy // ToValues];\n",
    "Do[ComponentValue[WPhi[{ii, -cart}], -(1/6) alpha[] W[] invgam[k, l] dg4[{ii, -cart}, -k, -l] // DummyToBasis[cart] // TraceBasisDummy // ToValues], {ii, 1, 3}];"
   ]
  },
  {
   "cell_type": "markdown",
   "id": "3488cb31-a924-41e6-939a-70d323ebe82a",
   "metadata": {
    "jp-MarkdownHeadingCollapsed": true
   },
   "source": [
    "### $\\hat{g}_{\\mathbf{nn}}=-2\\alpha, \\hat{g}_\\mathbf{n}{}^i=\\beta^i, \\hat{g}_{ij}=W^2\\gamma_{ij}$"
   ]
  },
  {
   "cell_type": "code",
   "execution_count": null,
   "id": "38e6d3f7-c3d1-487b-83a2-b73decb33fad",
   "metadata": {},
   "outputs": [],
   "source": [
    "ComponentValue[hgnn[], -2 alpha[] // ToValues];\n",
    "Do[ComponentValue[hgn[{ii, cart}], If[ii == 0, 0, beta[{ii, cart}] // ToValues]], {ii, 0, 3}];\n",
    "Do[ComponentValue[hg[{ii, -cart}, {jj, -cart}], W[]^2 ADMgamma[{ii, -cart}, {jj, -cart}] // ToValues], {ii, 1, 3}, {jj, ii, 3}];"
   ]
  },
  {
   "cell_type": "code",
   "execution_count": null,
   "id": "25445d5a-3165-450c-80b4-28ab6b5f66b2",
   "metadata": {},
   "outputs": [],
   "source": [
    "hg[-i, -j] // ToBasis[cart] // ComponentArray // ComponentValue;b"
   ]
  },
  {
   "cell_type": "markdown",
   "id": "ad37ae89-7b91-4a1a-af22-d08d63b4eb7c",
   "metadata": {
    "jp-MarkdownHeadingCollapsed": true
   },
   "source": [
    "### $\\hat\\Pi_{\\mathbf{nn}}=-\\alpha^2\\partial_\\mathbf{n}g_{\\mathbf{nn}}, \\hat\\Pi_{\\mathbf{n}}{}^i=-\\alpha^2\\gamma^{ij}\\partial_\\mathbf{n}g_{\\mathbf{n}j}, \\hat\\Pi_{ij}=-\\alpha W^2\\partial_\\mathbf{n}g_{ij}+2W^{-1}\\varPi\\hat{g}_{ij}$"
   ]
  },
  {
   "cell_type": "code",
   "execution_count": null,
   "id": "5c6d2c08-add1-49c8-89c0-6cb21e77788f",
   "metadata": {},
   "outputs": [],
   "source": [
    "ComponentValue[hPinn[], -alpha[]^2 nvec[c] nvec[a] nvec[b] dg4[-c, -a, -b] // DummyToBasis[cart] // TraceBasisDummy // ToValues];\n",
    "Do[ComponentValue[hPin[{ii, cart}], If[ii == 0, 0, -alpha[]^2 invgam[{ii, cart}, j] nvec[c] nvec[a] dg4[-c, -a, -j]] // DummyToBasis[cart] // TraceBasisDummy // ToValues], {ii, 0, 3}];\n",
    "Do[ComponentValue[hPi[{ii, -cart}, {jj, -cart}], -alpha[] W[]^2 nvec[c] dg4[-c, {ii, -cart}, {jj, -cart}] + 2 W[]^-1 WPi[] hg[{ii, -cart}, {jj, -cart}] // DummyToBasis[cart] // TraceBasisDummy // ToValues], {ii, 1, 3}, {jj, ii, 3}];"
   ]
  },
  {
   "cell_type": "code",
   "execution_count": null,
   "id": "2258aa4f-768b-4acc-8093-38b2c1e43a72",
   "metadata": {},
   "outputs": [],
   "source": [
    "hPi[-i, -j] // ToBasis[cart] // ComponentArray // ComponentValue;"
   ]
  },
  {
   "cell_type": "markdown",
   "id": "8483d753-f5a0-42a8-a677-36225a118d0f",
   "metadata": {
    "jp-MarkdownHeadingCollapsed": true
   },
   "source": [
    "### $\\hat\\Phi_{k\\mathbf{nn}}=\\alpha^2\\partial_kg_{\\mathbf{nn}}, \\hat\\Phi_{k\\mathbf{n}}{}^i=\\alpha^2\\gamma^{ij}\\partial_kg_{\\mathbf{n}j}, \\hat\\Phi_{kij}=\\alpha W^2\\partial_kg_{ij}+2W^{-1}\\Phi_k\\hat{g}_{ij}$"
   ]
  },
  {
   "cell_type": "code",
   "execution_count": null,
   "id": "9be0a65c-4a6b-4317-9028-fd787fb5ea0b",
   "metadata": {},
   "outputs": [],
   "source": [
    "Do[ComponentValue[hPhinn[{kk, -cart}], alpha[]^2 nvec[c] nvec[d] dg4[{kk, -cart}, -c, -d] // DummyToBasis[cart] // TraceBasisDummy // ToValues], {kk, 1, 3}];\n",
    "Do[ComponentValue[hPhin[{kk, -cart}, {ii, cart}], If[ii == 0, 0, alpha[]^2 invgam[{ii, cart}, j] nvec[a] dg4[{kk, -cart}, -a, -j]] // DummyToBasis[cart] // TraceBasisDummy // ToValues], {kk, 1, 3}, {ii, 0, 3}];\n",
    "Do[ComponentValue[hPhi[{kk, -cart}, {ii, -cart}, {jj, -cart}], alpha[] W[]^2 dg4[{kk, -cart}, {ii, -cart}, {jj, -cart}] + 2 W[]^-1 WPhi[{kk, -cart}] hg[{ii, -cart}, {jj, -cart}] // DummyToBasis[cart] // TraceBasisDummy // ToValues], {kk, 1, 3}, {ii, 1, 3}, {jj, 1, 3}];"
   ]
  },
  {
   "cell_type": "code",
   "execution_count": null,
   "id": "2f0c419c-3ce1-4bee-a0ab-63e78788a00c",
   "metadata": {},
   "outputs": [],
   "source": [
    "hPhi[-k, -i, -j] // ToBasis[cart] // ComponentArray // ComponentValue;"
   ]
  },
  {
   "cell_type": "code",
   "execution_count": null,
   "id": "f04191a8-4b26-47ce-a78d-5ec015852884",
   "metadata": {},
   "outputs": [],
   "source": [
    "ComponentValue[hPhin[{0, -cart}, {0, cart}], 0];"
   ]
  },
  {
   "cell_type": "markdown",
   "id": "ec481f5e-97f5-4500-9ade-eeaff88273f4",
   "metadata": {},
   "source": [
    "### $\\hat{H}_\\mathbf{n}=-\\hat\\Gamma_{\\mathbf{n}}, \\hat{H}_i=-\\hat\\Gamma_i$"
   ]
  },
  {
   "cell_type": "markdown",
   "id": "f06495e3-4ac7-4249-9e23-c2f15965e55a",
   "metadata": {
    "jp-MarkdownHeadingCollapsed": true
   },
   "source": [
    "#### $\\hat\\Pi_{\\mathbf{n}i}=\\hat{g}_{ij}\\hat\\Pi_{\\mathbf{n}}{}^j, \\hat\\Phi_{k\\mathbf{n}i}=\\hat{g}_{ij}\\hat\\Phi_{k\\mathbf{n}}{}^j$"
   ]
  },
  {
   "cell_type": "code",
   "execution_count": null,
   "id": "24c3d297-3a1d-46f1-877f-a08a4e2ddf25",
   "metadata": {},
   "outputs": [],
   "source": [
    "Do[ComponentValue[hPinD[{ii, -cart}], hg[{ii, -cart}, -j] hPin[j] // DummyToBasis[cart] // TraceBasisDummy // ToValues], {ii, 1, 3}];\n",
    "Do[ComponentValue[hPhinD[{kk, -cart}, {ii, -cart}], hg[{ii, -cart}, -j] hPhin[{kk, -cart}, j] // DummyToBasis[cart] // TraceBasisDummy // ToValues], {kk, 1, 3}, {ii, 1, 3}];"
   ]
  },
  {
   "cell_type": "markdown",
   "id": "fa11c975-6090-4f27-b26f-3ad2b64c7a32",
   "metadata": {
    "jp-MarkdownHeadingCollapsed": true
   },
   "source": [
    "#### $\\hat\\Gamma_{kij}=\\frac{1}{2}(\\hat\\Phi_{ijk}+\\hat\\Phi_{jki}-\\hat\\Phi_{kij}), \\hat\\Gamma_{k\\mathbf{n}i}=\\alpha^{-1}\\hat\\Phi_{[ik]\\mathbf{n}}-\\frac{1}{2}\\hat\\Pi_{ki}, \\hat\\Gamma_{\\mathbf{n}ij}=\\alpha^{-1}\\hat\\Phi_{(ij)\\mathbf{n}}+\\frac{1}{2}\\hat\\Pi_{ij}$"
   ]
  },
  {
   "cell_type": "code",
   "execution_count": null,
   "id": "8e825643-fe11-4344-bb02-4e2e047550b8",
   "metadata": {},
   "outputs": [],
   "source": [
    "Do[ComponentValue[hGam[{kk, -cart}, {ii, -cart}, {jj, -cart}],\n",
    "    1/2 (hPhi[{ii, -cart}, {jj, -cart}, {kk, -cart}] + hPhi[{jj, -cart}, {kk, -cart}, {ii, -cart}] - hPhi[{kk, -cart}, {ii, -cart}, {jj, -cart}]) // ToValues], {kk, 1, 3}, {ii, 1, 3}, {jj, ii, 3}]\n",
    "Do[ComponentValue[hGamn2[{kk, -cart}, {ii, -cart}],\n",
    "    1/2 alpha[]^-1 (hPhinD[{ii, -cart}, {kk, -cart}] - hPhinD[{kk, -cart}, {ii, -cart}]) - 1/2 hPi[{kk, -cart}, {ii, -cart}] // ToValues], {kk, 1, 3}, {ii, 1, 3}];\n",
    "Do[ComponentValue[hGamn[{ii, -cart}, {jj, -cart}],\n",
    "    1/2 alpha[]^-1 (hPhinD[{ii, -cart}, {jj, -cart}] + hPhinD[{jj, -cart}, {ii, -cart}]) + 1/2 hPi[{ii, -cart}, {jj, -cart}] // ToValues], {ii, 1, 3}, {jj, ii, 3}];"
   ]
  },
  {
   "cell_type": "code",
   "execution_count": null,
   "id": "4f13481e-172b-4904-8185-e6bfecb5ba37",
   "metadata": {},
   "outputs": [],
   "source": [
    "hGam[-k, -i, -j] // ToBasis[cart] // ComponentArray // ComponentValue;\n",
    "hGamn[-i, -j] // ToBasis[cart] // ComponentArray // ComponentValue;"
   ]
  },
  {
   "cell_type": "markdown",
   "id": "55a78630-e331-4dc6-9f1f-45ca05095a69",
   "metadata": {
    "jp-MarkdownHeadingCollapsed": true
   },
   "source": [
    "#### $\\hat\\Gamma_{\\mathbf{n}}=\\hat{g}^{ij}\\hat\\Gamma_{\\mathbf{n}ij}+\\frac{1}{2}\\alpha^{-1}\\hat\\Pi_\\mathbf{nn}-3W^{-1}\\varPi, \\hat\\Gamma_k=W^2(\\alpha\\hat\\gamma^{ij}\\hat\\Gamma_{kij}+\\frac{1}{2}\\hat\\Phi_{k\\mathbf{nn}})+\\alpha W\\varPhi_k+\\hat\\Pi_{\\mathbf{n}k}$"
   ]
  },
  {
   "cell_type": "code",
   "execution_count": null,
   "id": "73a8eead-3b08-4d2f-98ff-54af41b6e7a8",
   "metadata": {},
   "outputs": [],
   "source": [
    "ComponentValue[trhGamn[], invhg[i, j] hGamn[-i, -j] + 1/2 alpha[]^-1 hPinn[] - 3 W[]^-1 WPi[] // DummyToBasis[cart] // TraceBasisDummy // ToValues];\n",
    "Do[ComponentValue[trhGam[{kk, -cart}],\n",
    "    W[]^2 (alpha[] invhg[i, j] hGam[{kk, -cart}, -i, -j] + 1/2 hPhinn[{kk, -cart}]) + alpha[] W[] WPhi[{kk, -cart}] + hPinD[{kk, -cart}] // DummyToBasis[cart] // TraceBasisDummy // ToValues], {kk, 1, 3}];"
   ]
  },
  {
   "cell_type": "markdown",
   "id": "d2e5cf31-5565-4b07-a39a-da25516d4804",
   "metadata": {},
   "source": [
    "#### $\\hat{H}_\\mathbf{n}, \\hat{H}_i$"
   ]
  },
  {
   "cell_type": "code",
   "execution_count": null,
   "id": "58d72260-dfd2-46e9-b387-3ca87052670c",
   "metadata": {},
   "outputs": [],
   "source": [
    "ComponentValue[hHn[], -trhGamn[] // ToValues];\n",
    "Do[ComponentValue[hH[{ii, -cart}], -trhGam[{ii, -cart}] // ToValues], {ii, 1, 3}];"
   ]
  },
  {
   "cell_type": "markdown",
   "id": "3b858592-8e8b-417f-b792-e9716f7cc4a7",
   "metadata": {
    "jp-MarkdownHeadingCollapsed": true
   },
   "source": [
    "## Derivative Terms"
   ]
  },
  {
   "cell_type": "markdown",
   "id": "c8147594-290a-44fd-8de2-49efa275aa87",
   "metadata": {
    "jp-MarkdownHeadingCollapsed": true
   },
   "source": [
    "### $\\partial W, \\partial\\varPi, \\partial\\varPhi$"
   ]
  },
  {
   "cell_type": "code",
   "execution_count": null,
   "id": "06faf7b8-0a0d-4581-8d07-5cc0e70d1cb5",
   "metadata": {},
   "outputs": [],
   "source": [
    "IndexSetDelayed[dW[k_], PDcart[k][W[]]];\n",
    "IndexSetDelayed[dWPi[k_], PDcart[k][WPi[]]];\n",
    "IndexSetDelayed[dWPhi[k_, i_], PDcart[k][WPhi[i]]];b"
   ]
  },
  {
   "cell_type": "markdown",
   "id": "20e1aae8-fb73-4e05-8801-fb91f085b83e",
   "metadata": {
    "jp-MarkdownHeadingCollapsed": true
   },
   "source": [
    "### $\\partial\\hat{g}, \\partial\\hat\\Pi, \\partial\\hat\\Phi$"
   ]
  },
  {
   "cell_type": "code",
   "execution_count": null,
   "id": "8ee5a808-216e-4d9e-b9aa-f30aebaf5874",
   "metadata": {},
   "outputs": [],
   "source": [
    "IndexSetDelayed[dhgnn[k_], PDcart[k][hgnn[]]];\n",
    "IndexSetDelayed[dhgn[k_, i_], PDcart[k][hgn[i]]];\n",
    "IndexSetDelayed[dhg[k_, i_, j_], PDcart[k][hg[i, j]]];"
   ]
  },
  {
   "cell_type": "code",
   "execution_count": null,
   "id": "e90d92cf-cf6d-4f0c-af61-60ce446f0c9d",
   "metadata": {},
   "outputs": [],
   "source": [
    "IndexSetDelayed[dhPinn[k_], PDcart[k][hPinn[]]];\n",
    "IndexSetDelayed[dhPin[k_, i_], PDcart[k][hPin[i]]];\n",
    "IndexSetDelayed[dhPi[k_, i_, j_], PDcart[k][hPi[i, j]]];"
   ]
  },
  {
   "cell_type": "code",
   "execution_count": null,
   "id": "972384d8-54f0-46fc-a9e3-4861dd658453",
   "metadata": {},
   "outputs": [],
   "source": [
    "IndexSetDelayed[dhPhinn[k_, i_], PDcart[k][hPhinn[i]]];\n",
    "IndexSetDelayed[dhPhin[k_, l_, i_], PDcart[k][hPhin[l, i]]];\n",
    "IndexSetDelayed[dhPhi[k_, l_, i_, j_], PDcart[k][hPhi[l, i, j]]];"
   ]
  },
  {
   "cell_type": "markdown",
   "id": "3ddf36ec-d18e-42df-8e7e-c0f6ceb60052",
   "metadata": {
    "jp-MarkdownHeadingCollapsed": true
   },
   "source": [
    "### $\\partial\\hat{H}, \\partial\\hat\\theta$"
   ]
  },
  {
   "cell_type": "code",
   "execution_count": null,
   "id": "32630e58-f85d-4d05-a094-e6eb1e9f5945",
   "metadata": {},
   "outputs": [],
   "source": [
    "IndexSetDelayed[dhHn[k_], PDcart[k][hHn[]]];\n",
    "IndexSetDelayed[dhH[k_, i_], PDcart[k][hH[i]]];"
   ]
  },
  {
   "cell_type": "code",
   "execution_count": null,
   "id": "af57ec08-b5e0-4f7c-a342-5e9810063394",
   "metadata": {},
   "outputs": [],
   "source": [
    "IndexSetDelayed[dhthetan[k_], PDcart[k][hthetan[]]];\n",
    "IndexSetDelayed[dhtheta[k_, i_], PDcart[k][htheta[i]]];"
   ]
  },
  {
   "cell_type": "markdown",
   "id": "c16e9a49-2abb-47f3-8897-bcc0e5ff7c3a",
   "metadata": {},
   "source": [
    "## Extra Terms"
   ]
  },
  {
   "cell_type": "markdown",
   "id": "f544cd69-8177-4f28-bc59-6734d3857695",
   "metadata": {
    "jp-MarkdownHeadingCollapsed": true
   },
   "source": [
    "### $\\hat\\theta$"
   ]
  },
  {
   "cell_type": "code",
   "execution_count": null,
   "id": "f296cdf1-439f-45de-b7b6-cd27c709f7a5",
   "metadata": {},
   "outputs": [],
   "source": [
    "IndexSetDelayed[hthetan[], -beta[k] PDcart[-k][hHn[]]];\n",
    "IndexSetDelayed[htheta[i_], -beta[k] PDcart[-k][hH[i]]];"
   ]
  },
  {
   "cell_type": "markdown",
   "id": "d57393ad-bb5a-425b-9ac4-eba6a4efcba4",
   "metadata": {
    "jp-MarkdownHeadingCollapsed": true
   },
   "source": [
    "### $\\partial_\\mathbf{n}\\hat{H}$"
   ]
  },
  {
   "cell_type": "code",
   "execution_count": null,
   "id": "4faa1da6-fa77-4107-9bcf-bc346302452e",
   "metadata": {},
   "outputs": [],
   "source": [
    "IndexSetDelayed[dnhHn[], alpha[]^-1 hthetan[]];\n",
    "IndexSetDelayed[dnhH[i_], alpha[]^-1 htheta[i]];"
   ]
  },
  {
   "cell_type": "markdown",
   "id": "d7ebc19f-d2eb-4122-bae5-31b1b3046dc4",
   "metadata": {},
   "source": [
    "## Check RHS"
   ]
  },
  {
   "cell_type": "markdown",
   "id": "3d615af6-9050-4e71-977b-1c517fc37a8b",
   "metadata": {
    "jp-MarkdownHeadingCollapsed": true
   },
   "source": [
    "### Functions"
   ]
  },
  {
   "cell_type": "code",
   "execution_count": null,
   "id": "eec332ee-61af-496b-8bde-8343846220ac",
   "metadata": {},
   "outputs": [],
   "source": [
    "toExplicit[sf_] := Module[{},\n",
    "    {\n",
    "    sf[X[], Y[], Z[]] -> ToExpression[ToString[sf] <> \"$expl\"][],\n",
    "    D[sf[X[], Y[], Z[]], X[]] -> (D[ToExpression[ToString[sf] <> \"$expl\"][], X[]]),\n",
    "    D[sf[X[], Y[], Z[]], Y[]] -> (D[ToExpression[ToString[sf] <> \"$expl\"][], Y[]]),\n",
    "    D[sf[X[], Y[], Z[]], Z[]] -> (D[ToExpression[ToString[sf] <> \"$expl\"][], Z[]]),\n",
    "    D[sf[X[], Y[], Z[]], X[], X[]] -> (D[ToExpression[ToString[sf] <> \"$expl\"][], X[], X[]]),\n",
    "    D[sf[X[], Y[], Z[]], X[], Y[]] -> (D[ToExpression[ToString[sf] <> \"$expl\"][], X[], Y[]]),\n",
    "    D[sf[X[], Y[], Z[]], X[], Z[]] -> (D[ToExpression[ToString[sf] <> \"$expl\"][], X[], Z[]]),\n",
    "    D[sf[X[], Y[], Z[]], Y[], Y[]] -> (D[ToExpression[ToString[sf] <> \"$expl\"][], Y[], Y[]]),\n",
    "    D[sf[X[], Y[], Z[]], Y[], Z[]] -> (D[ToExpression[ToString[sf] <> \"$expl\"][], Y[], Z[]]),\n",
    "    D[sf[X[], Y[], Z[]], Z[], Z[]] -> (D[ToExpression[ToString[sf] <> \"$expl\"][], Z[], Z[]])\n",
    "    }\n",
    "];"
   ]
  },
  {
   "cell_type": "code",
   "execution_count": null,
   "id": "d63c96ef-8671-4f23-9000-03b9ce8b9c37",
   "metadata": {},
   "outputs": [],
   "source": [
    "cndList[] := Module[{co = {x, y, z}, cnd$radi, cnd$scalar},\n",
    "    (* radi *)\n",
    "    cnd$radi = toExplicit[radi];\n",
    "    (* scalar *)\n",
    "    cnd$fW = toExplicit[fW];\n",
    "    cnd$falpha = toExplicit[falpha];\n",
    "    Do[ToExpression[\"cnd$fbeta\" <> ToString[co[[ii]]], InputForm,\n",
    "        Function[name, name = toExplicit[ToExpression[\"fbeta\" <> ToString[co[[ii]]]]], HoldAll]], {ii, 1, 3}];\n",
    "    Do[ToExpression[\"cnd$fgamma\" <> ToString[co[[ii]]] <> ToString[co[[jj]]], InputForm,\n",
    "        Function[name, name = toExplicit[ToExpression[\"fgamma\" <> ToString[co[[ii]]] <> ToString[co[[jj]]]]], HoldAll]], {ii, 1, 3}, {jj, ii, 3}];\n",
    "    cnd$fdtalpha = toExplicit[fdtalpha];\n",
    "    Do[ToExpression[\"cnd$fdtbeta\" <> ToString[co[[ii]]], InputForm, \n",
    "        Function[name, name = toExplicit[ToExpression[\"fdtbeta\" <> ToString[co[[ii]]]]], HoldAll]], {ii, 1, 3}];\n",
    "    Do[ToExpression[\"cnd$fdtgamma\" <> ToString[co[[ii]]] <> ToString[co[[jj]]], InputForm, \n",
    "        Function[name, name = toExplicit[ToExpression[\"fdtgamma\" <> ToString[co[[ii]]] <> ToString[co[[jj]]]]], HoldAll]], {ii, 1, 3}, {jj, ii, 3}];\n",
    "    cnd$scalar = Join[\n",
    "        cnd$fW,\n",
    "        cnd$falpha, cnd$fbetax, cnd$fbetay, cnd$fbetaz,\n",
    "        cnd$fgammaxx, cnd$fgammaxy, cnd$fgammaxz, cnd$fgammayy, cnd$fgammayz, cnd$fgammazz,\n",
    "        cnd$fdtalpha, cnd$fdtbetax, cnd$fdtbetay, cnd$fdtbetaz,\n",
    "        cnd$fdtgammaxx, cnd$fdtgammaxy, cnd$fdtgammaxz, cnd$fdtgammayy, cnd$fdtgammayz, cnd$fdtgammazz\n",
    "    ];\n",
    "    {cnd$radi, cnd$scalar}\n",
    "];"
   ]
  },
  {
   "cell_type": "markdown",
   "id": "bede4a68-6018-4c38-b91c-6dd381abe652",
   "metadata": {
    "jp-MarkdownHeadingCollapsed": true
   },
   "source": [
    "### BH Parameters"
   ]
  },
  {
   "cell_type": "code",
   "execution_count": null,
   "id": "7bbff54c-18f6-4f4c-8400-89af7a92c1fd",
   "metadata": {},
   "outputs": [],
   "source": [
    "DefConstantSymbol[angv, PrintAs -> \"a\"];\n",
    "DefConstantSymbol[mass, PrintAs -> \"M\"];\n",
    "DefScalarFunction[radi, PrintAs -> \"r\"];"
   ]
  },
  {
   "cell_type": "markdown",
   "id": "6bcf88a3-b828-46e0-9ce8-dfb4a3fd0727",
   "metadata": {},
   "source": [
    "### Kerr-Schild"
   ]
  },
  {
   "cell_type": "markdown",
   "id": "335fac4d-1f81-4344-abd0-334003bb2030",
   "metadata": {},
   "source": [
    "$$\n",
    "\\begin{align}\n",
    "k_a\n",
    "&=\n",
    "\\left(\n",
    "    1, \\frac{rx+ay}{r^2+a^2}, \\frac{ry-ax}{r^2+a^2}, \\frac{z}{r}\n",
    "\\right)\n",
    "\\\\\n",
    "f\n",
    "&=\\frac{r^2}{r^4+a^2z^2}2Mr\n",
    "\\\\\n",
    "g_{ab}\n",
    "&=\\eta_{ab}+fk_ak_b\n",
    "\\\\\n",
    "\\beta_i\n",
    "&=g_{0i}=fk_0k_i\n",
    "\\\\\n",
    "\\alpha\n",
    "&=\n",
    "\\left(\n",
    "    1+\\frac{2Mr^3}{r^4+a^2z^2}\n",
    "\\right)^{-1/2}\n",
    "\\\\\n",
    "W\n",
    "&=\\gamma^{-1/6}\n",
    "\\end{align}\n",
    "$$"
   ]
  },
  {
   "cell_type": "markdown",
   "id": "da355952-f020-4fc7-aa60-84eae22c0e27",
   "metadata": {},
   "source": [
    "with $\\frac{x^2+y^2}{r^2+a^2}+\\frac{z^2}{r^2}=1$"
   ]
  }
 ],
 "metadata": {
  "kernelspec": {
   "display_name": "Wolfram Language 14.1",
   "language": "Wolfram Language",
   "name": "wolframlanguage14.1"
  },
  "language_info": {
   "codemirror_mode": "mathematica",
   "file_extension": ".m",
   "mimetype": "application/vnd.wolfram.m",
   "name": "Wolfram Language",
   "pygments_lexer": "mathematica",
   "version": "12.0"
  }
 },
 "nbformat": 4,
 "nbformat_minor": 5
}
