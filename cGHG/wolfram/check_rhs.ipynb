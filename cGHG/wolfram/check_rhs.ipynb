{
 "cells": [
  {
   "cell_type": "markdown",
   "id": "61cb13fc-f066-4cea-bf0f-f4f8696d1405",
   "metadata": {},
   "source": [
    "# Check RHS Expression of cGHG system"
   ]
  },
  {
   "cell_type": "code",
   "execution_count": 2,
   "id": "a9bc8a0b-43e1-4a23-a748-d13058ea199f",
   "metadata": {},
   "outputs": [
    {
     "name": "stdout",
     "output_type": "stream",
     "text": [
      "------------------------------------------------------------\n",
      "Package xAct`xPerm`  version 1.2.3, {2015, 8, 23}\n",
      "CopyRight (C) 2003-2020, Jose M. Martin-Garcia, under the General Public\\\n",
      " \n",
      ">   License.\n",
      "Connecting to external mac executable...\n",
      "Connection established.\n",
      "------------------------------------------------------------\n",
      "Package xAct`xTensor`  version 1.2.0, {2021, 10, 17}\n",
      "CopyRight (C) 2002-2021, Jose M. Martin-Garcia, under the General Public\\\n",
      " \n",
      ">   License.\n",
      "------------------------------------------------------------\n",
      "These packages come with ABSOLUTELY NO WARRANTY; for details type\\\n",
      " \n",
      ">   Disclaimer[]. This is free software, and you are welcome to redistribute\\\n",
      " \n",
      ">   it under certain conditions. See the General Public License for details.\n",
      "------------------------------------------------------------\n",
      "------------------------------------------------------------\n",
      "Package xAct`xCoba`  version 0.8.6, {2021, 2, 28}\n",
      "CopyRight (C) 2005-2021, David Yllanes and Jose M. Martin-Garcia, under the\\\n",
      " \n",
      ">   General Public License.\n",
      "------------------------------------------------------------\n",
      "These packages come with ABSOLUTELY NO WARRANTY; for details type\\\n",
      " \n",
      ">   Disclaimer[]. This is free software, and you are welcome to redistribute\\\n",
      " \n",
      ">   it under certain conditions. See the General Public License for details.\n",
      "------------------------------------------------------------\n",
      "------------------------------------------------------------\n",
      "Package Generato`Basic`, {2024, 1, 11}\n",
      "------------------------------------------------------------\n",
      "------------------------------------------------------------\n",
      "Package Generato`ParseMode`, {2024, 7, 06}\n",
      "------------------------------------------------------------\n",
      "------------------------------------------------------------\n",
      "Package Generato`Component`, {2024, 1, 11}\n",
      "------------------------------------------------------------\n",
      "------------------------------------------------------------\n",
      "Package Generato`Varlist`, {2024, 1, 11}\n",
      "------------------------------------------------------------\n",
      "------------------------------------------------------------\n",
      "Package Generato`Interface`, {2024, 1, 11}\n",
      "------------------------------------------------------------\n",
      "------------------------------------------------------------\n",
      "Package Generato`Derivation`, {2024, 1, 18}\n",
      "------------------------------------------------------------\n",
      "\n"
     ]
    }
   ],
   "source": [
    "Needs[\"xAct`xCoba`\", FileNameJoin[{Environment[\"GENERATO\"], \"src/Generato.wl\"}]]"
   ]
  },
  {
   "cell_type": "code",
   "execution_count": 3,
   "id": "6d6a2f4b-ed5c-468a-b76e-18faa1c97d64",
   "metadata": {},
   "outputs": [],
   "source": [
    "DefManifold[M4, 4, IndexRange[a, z]];"
   ]
  },
  {
   "cell_type": "code",
   "execution_count": 4,
   "id": "93bb29fb-e3bf-4c9d-93d1-5c216a01b74a",
   "metadata": {},
   "outputs": [],
   "source": [
    "DefChart[cart, M4, {0, 1, 2, 3}, {T[], X[], Y[], Z[]}, ChartColor -> Blue];"
   ]
  },
  {
   "cell_type": "code",
   "execution_count": 5,
   "id": "2b42dbe3-5944-4504-b0a7-094e3b882b4d",
   "metadata": {},
   "outputs": [],
   "source": [
    "<< \"wl/cGHG_vars_check.wl\";"
   ]
  },
  {
   "cell_type": "code",
   "execution_count": 6,
   "id": "acd9b69a-4d40-4ba6-8f12-d19940984f7a",
   "metadata": {},
   "outputs": [],
   "source": [
    "<< \"wl/ADM_vars_check.wl\";"
   ]
  },
  {
   "cell_type": "code",
   "execution_count": 7,
   "id": "0965caf1-b705-480d-a359-9e154c241871",
   "metadata": {},
   "outputs": [],
   "source": [
    "<< \"wl/cGHG_rhs.wl\";"
   ]
  },
  {
   "cell_type": "markdown",
   "id": "50784e19-fa75-4c3e-be38-bd36c4294b90",
   "metadata": {
    "jp-MarkdownHeadingCollapsed": true
   },
   "source": [
    "## Define Scalar Functions"
   ]
  },
  {
   "cell_type": "code",
   "execution_count": null,
   "id": "e1b4fbc7-8b5d-4e7b-8462-072b6f88f300",
   "metadata": {},
   "outputs": [],
   "source": [
    "DefScalarFunction[fW];\n",
    "Module[{co = {x, y, z}},\n",
    "  DefScalarFunction[falpha];\n",
    "  Do[DefScalarFunction[ToExpression[\"fbeta\" <> ToString[co[[ii]]]]], {ii, 1, 3}];\n",
    "  Do[DefScalarFunction[ToExpression[\"fgamma\" <> ToString[co[[ii]]] <> ToString[co[[jj]]]]], {ii, 1, 3}, {jj, ii, 3}];\n",
    "  Do[DefScalarFunction[ToExpression[\"fK\" <> ToString[co[[ii]]] <> ToString[co[[jj]]]]], {ii, 1, 3}, {jj, ii, 3}]\n",
    "];\n",
    "Module[{co = {x, y, z}},\n",
    "  DefScalarFunction[fdtalpha];\n",
    "  Do[DefScalarFunction[ToExpression[\"fdtbeta\" <> ToString[co[[ii]]]]], {ii, 1, 3}];\n",
    "  Do[DefScalarFunction[ToExpression[\"fdtgamma\" <> ToString[co[[ii]]] <> ToString[co[[jj]]]]], {ii, 1, 3}, {jj, ii, 3}]\n",
    "];"
   ]
  },
  {
   "cell_type": "markdown",
   "id": "e8376c49-e29a-4e4c-988c-158237f04c7e",
   "metadata": {
    "jp-MarkdownHeadingCollapsed": true
   },
   "source": [
    "## Set ADM Variable Components with Scalar Functions"
   ]
  },
  {
   "cell_type": "code",
   "execution_count": null,
   "id": "ad8fa166-6f19-4380-abd6-b5fc547038d3",
   "metadata": {},
   "outputs": [],
   "source": [
    "ComponentValue[W[], fW[X[], Y[], Z[]]];"
   ]
  },
  {
   "cell_type": "code",
   "execution_count": null,
   "id": "c9106b33-afe0-43ba-8e47-160c35b7be6b",
   "metadata": {},
   "outputs": [],
   "source": [
    "Module[{co = {x, y, z}},\n",
    "  ComponentValue[ADMalpha[], falpha[X[], Y[], Z[]]];\n",
    "  Do[ComponentValue[ADMbeta[{ii, cart}], If[ii == 0, 0, ToExpression[\"fbeta\" <> ToString[co[[ii]]] <> \"[X[],Y[],Z[]]\"]]], {ii, 0, 3}];\n",
    "  Do[ComponentValue[ADMgamma[{ii, -cart}, {jj, -cart}], ToExpression[\"fgamma\" <> ToString[co[[ii]]] <> ToString[co[[jj]]] <> \"[X[],Y[],Z[]]\"]], {ii, 1, 3}, {jj, ii, 3}];\n",
    "  Do[ComponentValue[ADMexK[{ii, -cart}, {jj, -cart}], ToExpression[\"fK\" <> ToString[co[[ii]]] <> ToString[co[[jj]]] <> \"[X[],Y[],Z[]]\"]], {ii, 1, 3}, {jj, ii, 3}]\n",
    "];\n",
    "ADMgamma[-i, -j] // ToBasis[cart] // ComponentArray // ComponentValue;\n",
    "ADMexK[-i, -j] // ToBasis[cart] // ComponentArray // ComponentValue;"
   ]
  },
  {
   "cell_type": "code",
   "execution_count": null,
   "id": "25d98c72-41ea-43c7-8983-6594213a6f78",
   "metadata": {},
   "outputs": [],
   "source": [
    "Module[{co = {x, y, z}},\n",
    "  ComponentValue[ADMdtalpha[], fdtalpha[X[], Y[], Z[]]];\n",
    "  Do[ComponentValue[ADMdtbeta[{ii, cart}], If[ii == 0, 0, ToExpression[\"fdtbeta\" <> ToString[co[[ii]]] <> \"[X[],Y[],Z[]]\"]]], {ii, 0, 3}];\n",
    "  Do[ComponentValue[ADMdtgamma[{ii, -cart}, {jj, -cart}], ToExpression[\"fdtgamma\" <> ToString[co[[ii]]] <> ToString[co[[jj]]] <> \"[X[],Y[],Z[]]\"]], {ii, 1, 3}, {jj, ii, 3}]\n",
    "];\n",
    "ADMdtgamma[-i, -j] // ToBasis[cart] // ComponentArray // ComponentValue;"
   ]
  },
  {
   "cell_type": "markdown",
   "id": "19b07ac8-9511-4896-81a7-8e2dabc4c1ef",
   "metadata": {},
   "source": [
    "## Set cGHG Variables with ADM Variables"
   ]
  },
  {
   "cell_type": "markdown",
   "id": "453431ce-e6f1-4659-aa64-564ebff9df6a",
   "metadata": {},
   "source": [
    "$\\alpha,\\beta^i$"
   ]
  },
  {
   "cell_type": "code",
   "execution_count": null,
   "id": "bc71fc92-7d2f-412e-90fb-d9a8d5a201a6",
   "metadata": {},
   "outputs": [],
   "source": [
    "ComponentValue[alpha[], ADMalpha[] // ToValues];\n",
    "Do[ComponentValue[beta[{ii, cart}], ADMbeta[{ii, cart}] // ToValues], {ii, 0, 3}];"
   ]
  },
  {
   "cell_type": "markdown",
   "id": "74fcef5e-506c-4ee8-a32b-447304630d3a",
   "metadata": {},
   "source": [
    "$\\gamma^{ij}=(\\gamma_{ij})^{-1}, \\hat\\gamma^{ij}=W^{-2}\\gamma^{ij}$ where $W=(\\gamma/\\hat{g})^{-1/6}=\\gamma^{-1/6}$"
   ]
  },
  {
   "cell_type": "code",
   "execution_count": null,
   "id": "0de9a461-f78b-488d-9af0-4f4afbc98f40",
   "metadata": {},
   "outputs": [],
   "source": [
    "Module[{gammaMat, invgammaMat},\n",
    "  gammaMat = Table[ADMgamma[{ii, -cart}, {jj, -cart}] // ToValues, {ii, 1, 3}, {jj, 1, 3}];\n",
    "  invgammaMat = Inverse[gammaMat] /. {1/Det[gammaMat] -> (W[] // ToValues)^6};\n",
    "  Do[ComponentValue[invgam[{aa, cart}, {bb, cart}], If[aa == 0 || bb == 0, 0, invgammaMat[[aa, bb]]]], {aa, 0, 3}, {bb, 0, 3}]\n",
    "];\n",
    "Do[ComponentValue[invhg[{aa, cart}, {bb, cart}], If[aa == 0 || bb == 0, 0, (W[] // ToValues)^-2 invgam[{aa, cart}, {bb, cart}] // ToValues]], {aa, 0, 3}, {bb, 0, 3}];"
   ]
  },
  {
   "cell_type": "markdown",
   "id": "29b49bee-15ab-4dd7-8acf-300c87a7571c",
   "metadata": {},
   "source": [
    "$n^a = (\\alpha^{-1},-\\alpha^{-1}\\beta^i)$"
   ]
  },
  {
   "cell_type": "code",
   "execution_count": null,
   "id": "89902937-8e1b-4f8f-a61f-5873b2c140ad",
   "metadata": {},
   "outputs": [],
   "source": [
    "Do[ComponentValue[nvec[{aa, cart}], If[aa == 0, ADMalpha[]^-1, -ADMalpha[]^-1 ADMbeta[{aa, cart}]] // ToValues], {aa, 0, 3}];"
   ]
  },
  {
   "cell_type": "markdown",
   "id": "9394b80f-f5e5-400e-8a1f-eb29e6913131",
   "metadata": {},
   "source": [
    "$g^{ab}=\\gamma^{ab}-n^an^b$"
   ]
  },
  {
   "cell_type": "code",
   "execution_count": null,
   "id": "a523812b-54f7-4043-a870-c23d59f7881c",
   "metadata": {},
   "outputs": [],
   "source": [
    "Do[ComponentValue[invg4[{aa, cart}, {bb, cart}], invgam[{aa, cart}, {bb, cart}] - nvec[{aa, cart}] nvec[{bb, cart}] // ToValues], {aa, 0, 3}, {bb, 0, 3}];b"
   ]
  },
  {
   "cell_type": "markdown",
   "id": "ebdcfe2b-b3cb-495c-99b1-945fb1830915",
   "metadata": {},
   "source": [
    "$\\partial_cg_{ij}=\\partial_c\\gamma_{ij}, \\partial_cg_{0i}=\\partial_c\\gamma_{il}\\beta^l+\\gamma_{il}\\partial_c\\beta^l, \\partial_cg_{00}=-2\\alpha\\partial_c\\alpha+2\\beta_l\\partial_c\\beta^l+\\beta^k\\beta^l\\partial_c\\gamma_{kl}$"
   ]
  },
  {
   "cell_type": "code",
   "execution_count": null,
   "id": "3c3178df-a31c-464a-9b16-fedb30bd0d54",
   "metadata": {},
   "outputs": [],
   "source": [
    "Do[ComponentValue[dg4[{cc, -cart}, {aa, -cart}, {bb, -cart}],\n",
    "    If[cc == 0,\n",
    "        If[aa == 0 && bb == 0,\n",
    "            -2 ADMalpha[] ADMdtalpha[] + 2 ADMgamma[-k, -l] ADMbeta[k] ADMdtbeta[l] + ADMbeta[k] ADMbeta[l] ADMdtgamma[-k, -l],\n",
    "            If[aa == 0,\n",
    "                ADMbeta[l] ADMdtgamma[{bb, -cart}, -l] + ADMgamma[{bb, -cart}, -l] ADMdtbeta[l],\n",
    "                ADMdtgamma[{aa, -cart}, {bb, -cart}]\n",
    "            ]\n",
    "        ],\n",
    "        If[aa == 0 && bb == 0,\n",
    "            -2 ADMalpha[] PDcart[{cc, -cart}][ADMalpha[]] + 2 ADMgamma[-k, -l] ADMbeta[k] PDcart[{cc, -cart}][ADMbeta[l]] + ADMbeta[k] ADMbeta[l] PDcart[{cc, -cart}][ADMgamma[-k, -l]],\n",
    "            If[aa == 0,\n",
    "                ADMbeta[l] PDcart[{cc, -cart}][ADMgamma[{bb, -cart}, -l]] + ADMgamma[{bb, -cart}, -l] PDcart[{cc, -cart}][ADMbeta[l]],\n",
    "                PDcart[{cc, -cart}][ADMgamma[{aa, -cart}, {bb, -cart}]]\n",
    "            ]\n",
    "        ]\n",
    "    ] // DummyToBasis[cart] // TraceBasisDummy // ToValues\n",
    "], {cc, 0, 3}, {aa, 0, 3}, {bb, aa, 3}];"
   ]
  },
  {
   "cell_type": "code",
   "execution_count": null,
   "id": "f40f5779-2d2d-44c8-90e4-28fbc4a7c87f",
   "metadata": {},
   "outputs": [],
   "source": [
    "dg4[-c, -a, -b] // ToBasis[cart] // ComponentArray // ComponentValue;"
   ]
  }
 ],
 "metadata": {
  "kernelspec": {
   "display_name": "Wolfram Language 14.1",
   "language": "Wolfram Language",
   "name": "wolframlanguage14.1"
  },
  "language_info": {
   "codemirror_mode": "mathematica",
   "file_extension": ".m",
   "mimetype": "application/vnd.wolfram.m",
   "name": "Wolfram Language",
   "pygments_lexer": "mathematica",
   "version": "12.0"
  }
 },
 "nbformat": 4,
 "nbformat_minor": 5
}
