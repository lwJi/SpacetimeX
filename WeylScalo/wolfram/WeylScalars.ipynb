{
 "cells": [
  {
   "cell_type": "markdown",
   "id": "a5490ac4-d777-47eb-8aea-8747d7096025",
   "metadata": {},
   "source": [
    "# The Weyl Scalars"
   ]
  },
  {
   "cell_type": "code",
   "execution_count": 1,
   "id": "c4966afd-d408-4ccf-978f-780d9390056e",
   "metadata": {},
   "outputs": [
    {
     "name": "stdout",
     "output_type": "stream",
     "text": [
      "------------------------------------------------------------\n",
      "Package xAct`xPerm`  version 1.2.3, {2015, 8, 23}\n",
      "CopyRight (C) 2003-2020, Jose M. Martin-Garcia, under the General Public\\\n",
      " \n",
      ">   License.\n",
      "Connecting to external mac executable...\n",
      "Connection established.\n",
      "------------------------------------------------------------\n",
      "Package xAct`xTensor`  version 1.2.0, {2021, 10, 17}\n",
      "CopyRight (C) 2002-2021, Jose M. Martin-Garcia, under the General Public\\\n",
      " \n",
      ">   License.\n",
      "------------------------------------------------------------\n",
      "These packages come with ABSOLUTELY NO WARRANTY; for details type\\\n",
      " \n",
      ">   Disclaimer[]. This is free software, and you are welcome to redistribute\\\n",
      " \n",
      ">   it under certain conditions. See the General Public License for details.\n",
      "------------------------------------------------------------\n"
     ]
    }
   ],
   "source": [
    "<<xAct`xTensor`"
   ]
  },
  {
   "cell_type": "code",
   "execution_count": 2,
   "id": "86e61c09-22b7-41b9-a866-1ebb4c203c8b",
   "metadata": {},
   "outputs": [],
   "source": [
    "$CommuteCovDsOnScalars = True;\n",
    "$PrePrint = ScreenDollarIndices;"
   ]
  },
  {
   "cell_type": "code",
   "execution_count": 4,
   "id": "5afdacb3-2de6-4b73-b5a6-c57f30cd0a19",
   "metadata": {},
   "outputs": [
    {
     "name": "stdout",
     "output_type": "stream",
     "text": [
      "** DefManifold: Defining manifold M3. \n",
      "** DefVBundle: Defining vbundle TangentM3. \n"
     ]
    }
   ],
   "source": [
    "DefManifold[M3, 3, Complement[IndexRange[a, z], {g}]];"
   ]
  },
  {
   "cell_type": "code",
   "execution_count": 5,
   "id": "ffacde3c-a141-4d04-b594-d021b859dbe3",
   "metadata": {},
   "outputs": [
    {
     "name": "stdout",
     "output_type": "stream",
     "text": [
      "** DefTensor: Defining symmetric metric tensor g[-i, -j]. \n",
      "** DefTensor: Defining antisymmetric tensor epsilong[-a, -b, -c]. \n",
      "** DefCovD: Defining covariant derivative CD[-i]. \n",
      "** DefTensor: Defining vanishing torsion tensor TorsionCD[a, -b, -c]. \n",
      "** DefTensor: Defining symmetric Christoffel tensor ChristoffelCD[a, -b, -c]. \n",
      "** DefTensor: Defining Riemann tensor RiemannCD[-a, -b, -c, -d]. \n",
      "** DefTensor: Defining symmetric Ricci tensor RicciCD[-a, -b]. \n",
      "** DefCovD:  Contractions of Riemann automatically replaced by Ricci.\n",
      "** DefTensor: Defining Ricci scalar RicciScalarCD[]. \n",
      "** DefCovD:  Contractions of Ricci automatically replaced by RicciScalar.\n",
      "** DefTensor: Defining symmetric Einstein tensor EinsteinCD[-a, -b]. \n",
      "** DefTensor: Defining vanishing Weyl tensor WeylCD[-a, -b, -c, -d]. \n",
      "** DefTensor: Defining symmetric TFRicci tensor TFRicciCD[-a, -b]. \n",
      "** DefTensor: Defining Kretschmann scalar KretschmannCD[]. \n",
      "** DefCovD:  Computing RiemannToWeylRules for dim 3\n",
      "** DefCovD:  Computing RicciToTFRicci for dim 3\n",
      "** DefCovD:  Computing RicciToEinsteinRules for dim 3\n",
      "** DefTensor: Defining weight +2 density Detg[]. Determinant.\n"
     ]
    }
   ],
   "source": [
    "DefMetric[1, g[-i, -j], CD, SymbolOfCovD -> {\";\", \"\\[Del]\"}];"
   ]
  },
  {
   "cell_type": "code",
   "execution_count": 6,
   "id": "6f768834-ee9a-4cf4-8353-abe69b5202ca",
   "metadata": {},
   "outputs": [
    {
     "data": {
      "text/html": [
       "<div><pre style=\"&#102;&#111;&#110;&#116;&#45;&#102;&#97;&#109;&#105;&#108;&#121;&#58;&#32;&#34;&#67;&#111;&#117;&#114;&#105;&#101;&#114;&#32;&#78;&#101;&#119;&#34;&#44;&#67;&#111;&#117;&#114;&#105;&#101;&#114;&#44;&#109;&#111;&#110;&#111;&#115;&#112;&#97;&#99;&#101;&#59;\">&#48;</pre></div>"
      ],
      "text/plain": [
       "0"
      ]
     },
     "execution_count": 6,
     "metadata": {
      "text/html": [],
      "text/plain": []
     },
     "output_type": "execute_result"
    }
   ],
   "source": [
    "ChristoffelCD[-k, -i, -j] - \n",
    "   1/2 (PD[-i][g[-j, -k]] + PD[-j][g[-k, -i]] - PD[-k][g[-i, -j]]) // \n",
    "  ChristoffelToMetric // ToCanonical"
   ]
  },
  {
   "cell_type": "markdown",
   "id": "c6c02bc6-e5a3-49de-bb80-85e8547d18ae",
   "metadata": {},
   "source": [
    "## Check Expression of $R_{ij}$"
   ]
  },
  {
   "cell_type": "markdown",
   "id": "864599a9-9bf2-4597-a447-e5cd9b8ccd11",
   "metadata": {},
   "source": [
    "$$\n",
    "\\begin{align}\n",
    "R_{jk}\n",
    "&=\n",
    "\\partial_i\\Gamma^i{}_{jk}-\\partial_j\\Gamma^i{}_{ki}\n",
    "+\\Gamma^i{}_{ip}\\Gamma^p{}_{jk}-\\Gamma^i{}_{jp}\\Gamma^p{}_{ik}\n",
    "\\\\\n",
    "&=\n",
    "g^{il}\n",
    "\\left[\n",
    "\\frac{1}{2}\n",
    "\\left(\n",
    "-\\partial_i\\partial_lg_{jk}\n",
    "-\\partial_j\\partial_kg_{il}\n",
    "+\\partial_j\\partial_ig_{kl}\n",
    "+\\partial_k\\partial_ig_{jl}\n",
    "\\right)\n",
    "+\\Gamma^m{}_{ji}\\Gamma_{mkl}-\\Gamma^m{}_{jk}\\Gamma_{mil}\n",
    "\\right]\n",
    "\\end{align}\n",
    "$$"
   ]
  },
  {
   "cell_type": "code",
   "execution_count": 7,
   "id": "dff9525d-f6bc-4f6e-937e-fdc64a312986",
   "metadata": {},
   "outputs": [],
   "source": [
    "IndexSet[EQ1[-a_, -b_], \n",
    "  RicciCD[-a, -b] - \n",
    "   g[c, d] (1/\n",
    "       2 (-PD[-c][PD[-d][g[-a, -b]]] - PD[-a][PD[-b][g[-c, -d]]] + \n",
    "         PD[-a][PD[-c][g[-b, -d]]] + PD[-b][PD[-c][g[-a, -d]]]) + \n",
    "      ChristoffelCD[e, -a, -c] ChristoffelCD[-e, -b, -d] - \n",
    "      ChristoffelCD[e, -a, -b] ChristoffelCD[-e, -c, -d])];"
   ]
  },
  {
   "cell_type": "code",
   "execution_count": 8,
   "id": "10ecafc0-895f-4843-99c5-49cd0d87284c",
   "metadata": {},
   "outputs": [
    {
     "data": {
      "text/html": [
       "<div><img alt=\"Output\" src=\"data:image/png;base64,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\"></div>"
      ],
      "text/plain": [
       "-Image-"
      ]
     },
     "execution_count": 8,
     "metadata": {
      "text/html": [],
      "text/plain": []
     },
     "output_type": "execute_result"
    }
   ],
   "source": [
    "Rasterize[EQ1[-i,-j]//ScreenDollarIndices]"
   ]
  },
  {
   "cell_type": "code",
   "execution_count": 9,
   "id": "2a844f71-0dfa-4638-8add-8eb94f4ad0c7",
   "metadata": {},
   "outputs": [
    {
     "data": {
      "text/html": [
       "<div><img alt=\"Output\" src=\"data:image/png;base64,iVBORw0KGgoAAAANSUhEUgAAABAAAAAlCAIAAADEJv4oAAAA0HpUWHRSYXcgcHJvZmlsZSB0eXBlIGV4aWYAAHjabU9BDgMhCLz7ij4BAQd9jt11k/6gzy+sbpptOonDMAJKGu/XkR4BzpS0WEUDyKFNG3cXlSZmzNROXgld4uYnLsvvbpXvBcbyn3ffMCPXn0HEU0i84Fp0NaxBwtPPfebPVc+91tugYztOXD9u36//zVWMUZBNnZXJDM11TS49oDAVw4EN8MKMnUk3jwNm3gaLCunRGOBh9+qRIG7ssYLEKdI9BrP4Vs586smZd7/VsybW+QBaaFwp4WqyVQAAAAlwSFlzAAAWJQAAFiUBSVIk8AAAADx0RVh0U29mdHdhcmUAQ3JlYXRlZCB3aXRoIHRoZSBXb2xmcmFtIExhbmd1YWdlIDogd3d3LndvbGZyYW0uY29tXKKmhQAAACF0RVh0Q3JlYXRpb24gVGltZQAyMDI1OjA1OjIzIDIyOjIyOjIx8XCZ6QAAAfFJREFUOE/tVD3LQWEYfo+PRSRfpRgUgwV/wGQRMpiMNtkMZJLFaGWQX2Aw2OwGkVIWUSwIkXzF4uO9TvfpcZwMr+ntrfcZ7u6P6/Jc930/B/d4PL4+ObJPwDz2n/CTif2NKd3v9+FwuF6v37eEt8QOcH6/X6vVEtRut2cymev1KsZ8saDZbOr1eoKqVCqFQkF+IBA4Ho8MJhAul4vJZELZbDa3Wi2oOp1O+XyeOKlUSkqoVCoo4FcHg4FYQDqdRh4iD4cD5YUbPB4PCuFwWIyGP5vN5HI5SqVS6UlAW5StVqsSAkKfz4dSPB6nEr/p5XJ5u93gOBwO2NVqVSgUarUaOmHJ+XwuTBmkdrtNAQQgDAaDFNbrdYS5XA4+ND9v2Gw2hKCxYhsUdjodWJ1OB8swvCSj0UiI3W4HG41GYTUaDTmUZBh+SlBChF6vR/dOp1O2rEQigVIoFHpKwrJoSuPxmJhWq1WtVpM/mUxgLRYLhcIe3G43/EgkIhnrYrGgN1IsFl8WVy6XkVUqlbhEzMlms9TPfr9/IZzPZxqRzWYbjUaoYTPYLsdxSCaTSelbQtxoNJhup9NpMBhIs9fr3W63bwhIdbtdLEgmEz508GOxGB6yWCTHP8DXA7n9fh+6XS4XTU983hAkCEn4N/5mfruHb4ThzkziZZ/HAAAAAElFTkSuQmCC\"></div>"
      ],
      "text/plain": [
       "-Image-"
      ]
     },
     "execution_count": 9,
     "metadata": {
      "text/html": [],
      "text/plain": []
     },
     "output_type": "execute_result"
    }
   ],
   "source": [
    "Rasterize[EQ1[-i,-j] // RiemannToChristoffel // ChristoffelToMetric // ToCanonical//ScreenDollarIndices]"
   ]
  }
 ],
 "metadata": {
  "kernelspec": {
   "display_name": "Wolfram Language 14.1",
   "language": "Wolfram Language",
   "name": "wolframlanguage14.1"
  },
  "language_info": {
   "codemirror_mode": "mathematica",
   "file_extension": ".m",
   "mimetype": "application/vnd.wolfram.m",
   "name": "Wolfram Language",
   "pygments_lexer": "mathematica",
   "version": "12.0"
  }
 },
 "nbformat": 4,
 "nbformat_minor": 5
}
