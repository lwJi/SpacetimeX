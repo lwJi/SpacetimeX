{
 "cells": [
  {
   "cell_type": "markdown",
   "id": "a5490ac4-d777-47eb-8aea-8747d7096025",
   "metadata": {},
   "source": [
    "# The Weyl Scalars"
   ]
  },
  {
   "cell_type": "markdown",
   "id": "864599a9-9bf2-4597-a447-e5cd9b8ccd11",
   "metadata": {},
   "source": [
    "$$\n",
    "\\begin{align}\n",
    "R_{jk}\n",
    "&=\n",
    "\\partial_i\\Gamma^i{}_{jk}-\\partial_j\\Gamma^i{}_{ki}\n",
    "+\\Gamma^i{}_{ip}\\Gamma^p{}_{jk}-\\Gamma^i{}_{jp}\\Gamma^p{}_{ik}\n",
    "\\\\\n",
    "&=\n",
    "\\frac{1}{2}g^{il}\n",
    "\\left(\n",
    "%-\\partial_i\\partial_lg_{jk}\n",
    "%-\\partial_j\\partial_kg_{il}\n",
    "%+\\partial_j\\partial_ig_{kl}\n",
    "%+\\partial_k\\partial_ig_{jl}\n",
    "\\right)\n",
    "+\\Gamma^i{}_{ip}\\Gamma^p{}_{jk}-\\Gamma^i{}_{jp}\\Gamma^p{}_{ik}\n",
    "\\end{align}\n",
    "$$"
   ]
  }
 ],
 "metadata": {
  "kernelspec": {
   "display_name": "Wolfram Language 14.1",
   "language": "Wolfram Language",
   "name": "wolframlanguage14.1"
  },
  "language_info": {
   "codemirror_mode": "mathematica",
   "file_extension": ".m",
   "mimetype": "application/vnd.wolfram.m",
   "name": "Wolfram Language",
   "pygments_lexer": "mathematica",
   "version": "12.0"
  }
 },
 "nbformat": 4,
 "nbformat_minor": 5
}
