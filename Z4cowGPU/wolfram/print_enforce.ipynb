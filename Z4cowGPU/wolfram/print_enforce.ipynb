{
 "cells": [
  {
   "cell_type": "markdown",
   "id": "a265f5c5-fce9-45ad-b496-8bb1ee1f219b",
   "metadata": {},
   "source": [
    "# Enforce Algebraic Constraints"
   ]
  },
  {
   "cell_type": "code",
   "execution_count": 1,
   "id": "9642db04-5283-4582-99af-90ffff046096",
   "metadata": {},
   "outputs": [
    {
     "name": "stdout",
     "output_type": "stream",
     "text": [
      "------------------------------------------------------------\n",
      "Package xAct`xPerm`  version 1.2.3, {2015, 8, 23}\n",
      "CopyRight (C) 2003-2020, Jose M. Martin-Garcia, under the General Public\\\n",
      " \n",
      ">   License.\n",
      "Connecting to external mac executable...\n",
      "Connection established.\n",
      "------------------------------------------------------------\n",
      "Package xAct`xTensor`  version 1.2.0, {2021, 10, 17}\n",
      "CopyRight (C) 2002-2021, Jose M. Martin-Garcia, under the General Public\\\n",
      " \n",
      ">   License.\n",
      "------------------------------------------------------------\n",
      "These packages come with ABSOLUTELY NO WARRANTY; for details type\\\n",
      " \n",
      ">   Disclaimer[]. This is free software, and you are welcome to redistribute\\\n",
      " \n",
      ">   it under certain conditions. See the General Public License for details.\n",
      "------------------------------------------------------------\n",
      "------------------------------------------------------------\n",
      "Package xAct`xCoba`  version 0.8.6, {2021, 2, 28}\n",
      "CopyRight (C) 2005-2021, David Yllanes and Jose M. Martin-Garcia, under the\\\n",
      " \n",
      ">   General Public License.\n",
      "------------------------------------------------------------\n",
      "These packages come with ABSOLUTELY NO WARRANTY; for details type\\\n",
      " \n",
      ">   Disclaimer[]. This is free software, and you are welcome to redistribute\\\n",
      " \n",
      ">   it under certain conditions. See the General Public License for details.\n",
      "------------------------------------------------------------\n",
      "------------------------------------------------------------\n",
      "Package Generato`Basic`, {2024, 1, 11}\n",
      "------------------------------------------------------------\n",
      "------------------------------------------------------------\n",
      "Package Generato`ParseMode`, {2024, 7, 06}\n",
      "------------------------------------------------------------\n",
      "------------------------------------------------------------\n",
      "Package Generato`Component`, {2024, 1, 11}\n",
      "------------------------------------------------------------\n",
      "------------------------------------------------------------\n",
      "Package Generato`Varlist`, {2024, 1, 11}\n",
      "------------------------------------------------------------\n",
      "------------------------------------------------------------\n",
      "Package Generato`Interface`, {2024, 1, 11}\n",
      "------------------------------------------------------------\n",
      "------------------------------------------------------------\n",
      "Package Generato`Derivation`, {2024, 1, 18}\n",
      "------------------------------------------------------------\n",
      "------------------------------------------------------------\n",
      "Package Generato`Writefile`, {2025, 1, 23}\n",
      "------------------------------------------------------------\n",
      "------------------------------------------------------------\n",
      "Package Generato`FiniteDifferenceStencils`, {2025, 1, 21}\n",
      "------------------------------------------------------------\n",
      "\n"
     ]
    }
   ],
   "source": [
    "Needs[\"xAct`xCoba`\", FileNameJoin[{Environment[\"GENERATO\"], \"src/Generato.wl\"}]]"
   ]
  },
  {
   "cell_type": "code",
   "execution_count": 2,
   "id": "ade74516-0ef1-4104-8217-d8968a1fa871",
   "metadata": {},
   "outputs": [],
   "source": [
    "DefManifold[M3, 3, IndexRange[a, z]];"
   ]
  },
  {
   "cell_type": "code",
   "execution_count": 3,
   "id": "30e4b742-e0bb-4813-a47b-b9f9fa31adbe",
   "metadata": {},
   "outputs": [],
   "source": [
    "(* set mode to check equations *)\n",
    "SetCheckInputEquations[True];"
   ]
  },
  {
   "cell_type": "code",
   "execution_count": 5,
   "id": "6a1456d6-b78c-4ebc-80dc-731695d234bf",
   "metadata": {},
   "outputs": [],
   "source": [
    "<<\"wl/Z4c_vars.wl\""
   ]
  },
  {
   "cell_type": "code",
   "execution_count": 6,
   "id": "53c04050-a5f0-4aa6-ad57-0050b485d3f3",
   "metadata": {},
   "outputs": [],
   "source": [
    "<<\"wl/Enforce_vars.wl\""
   ]
  },
  {
   "cell_type": "code",
   "execution_count": 7,
   "id": "396420b3-c92c-49bf-acc6-b02599fffdd0",
   "metadata": {},
   "outputs": [],
   "source": [
    "<<\"wl/Enforce_rhs.wl\""
   ]
  },
  {
   "cell_type": "markdown",
   "id": "789279a3-122b-41b2-a9d7-e852493904d7",
   "metadata": {},
   "source": [
    "## Check Expressions"
   ]
  },
  {
   "cell_type": "code",
   "execution_count": 8,
   "id": "07be83aa-230e-44b5-ba16-b6fc7df0626e",
   "metadata": {},
   "outputs": [],
   "source": [
    "rhsof[var_] := Module[{}, var /. {var[[0]] :> RHSOf[ToString[var[[0]]]]}];\n",
    "eqssof[varlist_] := Module[{var}, \n",
    "   Table[var = varlist[[ivar]][[1]]; var == rhsof[var]//ScreenDollarIndices, {ivar, 1, Length[varlist]}]];"
   ]
  },
  {
   "cell_type": "markdown",
   "id": "fe765538-ea4c-48c4-8597-df4256c160c7",
   "metadata": {},
   "source": [
    "### Z4c In terms of ADM"
   ]
  },
  {
   "cell_type": "code",
   "execution_count": 10,
   "id": "de2b21c1-afc1-4772-af17-8b6b1d655f04",
   "metadata": {},
   "outputs": [
    {
     "data": {
      "text/html": [
       "<div><img alt=\"Output\" src=\"data:image/png;base64,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\"></div>"
      ],
      "text/plain": [
       "-Image-"
      ]
     },
     "execution_count": 10,
     "metadata": {
      "text/html": [],
      "text/plain": []
     },
     "output_type": "execute_result"
    }
   ],
   "source": [
    "Rasterize[Drop[eqssof[EnforceVarlist], -3]//MatrixForm]"
   ]
  },
  {
   "cell_type": "code",
   "execution_count": 11,
   "id": "438046f9-f0f4-4ab3-aba6-17cd5368d01e",
   "metadata": {},
   "outputs": [
    {
     "data": {
      "text/html": [
       "<div><img alt=\"Output\" src=\"data:image/png;base64,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\"></div>"
      ],
      "text/plain": [
       "-Image-"
      ]
     },
     "execution_count": 11,
     "metadata": {
      "text/html": [],
      "text/plain": []
     },
     "output_type": "execute_result"
    }
   ],
   "source": [
    "Rasterize[Extract[eqssof[EnforceVarlist], {{-2}}]//MatrixForm]"
   ]
  },
  {
   "cell_type": "code",
   "execution_count": 12,
   "id": "31d0d882-0af3-46be-bc64-dfed9346fa4f",
   "metadata": {},
   "outputs": [
    {
     "data": {
      "text/html": [
       "<div><img alt=\"Output\" src=\"data:image/png;base64,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\"></div>"
      ],
      "text/plain": [
       "-Image-"
      ]
     },
     "execution_count": 12,
     "metadata": {
      "text/html": [],
      "text/plain": []
     },
     "output_type": "execute_result"
    }
   ],
   "source": [
    "Rasterize[Extract[eqssof[EvolVarlist], {{2}}]//MatrixForm]"
   ]
  },
  {
   "cell_type": "code",
   "execution_count": 13,
   "id": "8fea0dd0-7bf8-4a93-8e3d-df4fbd3bb93c",
   "metadata": {},
   "outputs": [
    {
     "data": {
      "text/html": [
       "<div><img alt=\"Output\" src=\"data:image/png;base64,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\"></div>"
      ],
      "text/plain": [
       "-Image-"
      ]
     },
     "execution_count": 13,
     "metadata": {
      "text/html": [],
      "text/plain": []
     },
     "output_type": "execute_result"
    }
   ],
   "source": [
    "Rasterize[Extract[eqssof[IntermediateVarlist], {{2}}]//MatrixForm]"
   ]
  },
  {
   "cell_type": "code",
   "execution_count": 14,
   "id": "ee5c38db-7040-4e4f-9891-fd5b3a317b08",
   "metadata": {},
   "outputs": [
    {
     "data": {
      "text/html": [
       "<div><img alt=\"Output\" src=\"data:image/png;base64,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\"></div>"
      ],
      "text/plain": [
       "-Image-"
      ]
     },
     "execution_count": 14,
     "metadata": {
      "text/html": [],
      "text/plain": []
     },
     "output_type": "execute_result"
    }
   ],
   "source": [
    "Rasterize[Extract[eqssof[EnforceVarlist], {{-3}}]//MatrixForm]"
   ]
  },
  {
   "cell_type": "code",
   "execution_count": 15,
   "id": "9b9ccf20-a2e8-431b-8367-0ba654b7c86e",
   "metadata": {},
   "outputs": [
    {
     "data": {
      "text/html": [
       "<div><img alt=\"Output\" src=\"data:image/png;base64,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\"></div>"
      ],
      "text/plain": [
       "-Image-"
      ]
     },
     "execution_count": 15,
     "metadata": {
      "text/html": [],
      "text/plain": []
     },
     "output_type": "execute_result"
    }
   ],
   "source": [
    "Rasterize[Extract[eqssof[EvolVarlist], {{4}}]//MatrixForm]"
   ]
  }
 ],
 "metadata": {
  "kernelspec": {
   "display_name": "Wolfram Language 14.1",
   "language": "Wolfram Language",
   "name": "wolframlanguage14.1"
  },
  "language_info": {
   "codemirror_mode": "mathematica",
   "file_extension": ".m",
   "mimetype": "application/vnd.wolfram.m",
   "name": "Wolfram Language",
   "pygments_lexer": "mathematica",
   "version": "12.0"
  }
 },
 "nbformat": 4,
 "nbformat_minor": 5
}
